{
 "cells": [
  {
   "cell_type": "code",
   "execution_count": 4,
   "metadata": {},
   "outputs": [],
   "source": [
    "import fitsio\n",
    "import numpy as np\n",
    "import healpy as hp\n",
    "import pandas as pd\n",
    "import matplotlib.pyplot as plt\n",
    "\n",
    "from base64 import b64encode\n",
    "import mechanize\n",
    "\n",
    "%matplotlib inline\n",
    "\n",
    "# I'm using Pandas (based on numpy), which is a very useful tool for\n",
    "# handling tables and data.\n",
    "# I'll properly put them into classes or more organized later"
   ]
  },
  {
   "cell_type": "code",
   "execution_count": 7,
   "metadata": {},
   "outputs": [],
   "source": [
    "#12GB file, be carefull\n",
    "file_name = 'data/spAll-v5_10_0.fits'\n",
    "\n",
    "fits = fitsio.FITS(file_name) \n",
    "\n",
    "# Columns we are interested on\n",
    "cols = ['CLASS', 'RA','DEC','THING_ID','OBJTYPE','MJD','PLATE','FIBERID','BOSS_TARGET1','EBOSS_TARGET0','EBOSS_TARGET1']"
   ]
  },
  {
   "cell_type": "code",
   "execution_count": 8,
   "metadata": {},
   "outputs": [],
   "source": [
    "# to show all names in file\n",
    "#fits[1]"
   ]
  },
  {
   "cell_type": "code",
   "execution_count": 9,
   "metadata": {},
   "outputs": [],
   "source": [
    "#%%time\n",
    "\n",
    "# Reading columns\n",
    "#http://stackoverflow.com/questions/30283836/creating-pandas-dataframe-from-numpy-array-leads-to-strange-errors\n",
    "#d = {col: fits[1][col].read().byteswap().newbyteorder() for col in cols}"
   ]
  },
  {
   "cell_type": "code",
   "execution_count": 10,
   "metadata": {},
   "outputs": [],
   "source": [
    "#df = pd.DataFrame(d)\n",
    "#print 'number of rows =', len(df)\n",
    "#df.head()"
   ]
  },
  {
   "cell_type": "code",
   "execution_count": 8,
   "metadata": {},
   "outputs": [
    {
     "name": "stdout",
     "output_type": "stream",
     "text": [
      "CPU times: user 3.85 s, sys: 398 ms, total: 4.24 s\n",
      "Wall time: 4.26 s\n"
     ]
    }
   ],
   "source": [
    "%%time\n",
    "#df.to_csv('subset_spAll-v5_10_0.csv', index=False)\n",
    "df = pd.read_csv('data/subset_spAll-v5_10_0.csv')"
   ]
  },
  {
   "cell_type": "code",
   "execution_count": 11,
   "metadata": {},
   "outputs": [
    {
     "name": "stdout",
     "output_type": "stream",
     "text": [
      "number of rows = 3008000\n"
     ]
    },
    {
     "data": {
      "text/html": [
       "<div>\n",
       "<table border=\"1\" class=\"dataframe\">\n",
       "  <thead>\n",
       "    <tr style=\"text-align: right;\">\n",
       "      <th></th>\n",
       "      <th>BOSS_TARGET1</th>\n",
       "      <th>CLASS</th>\n",
       "      <th>DEC</th>\n",
       "      <th>EBOSS_TARGET0</th>\n",
       "      <th>EBOSS_TARGET1</th>\n",
       "      <th>FIBERID</th>\n",
       "      <th>MJD</th>\n",
       "      <th>OBJTYPE</th>\n",
       "      <th>PLATE</th>\n",
       "      <th>RA</th>\n",
       "      <th>THING_ID</th>\n",
       "    </tr>\n",
       "  </thead>\n",
       "  <tbody>\n",
       "    <tr>\n",
       "      <th>0</th>\n",
       "      <td>0</td>\n",
       "      <td>GALAXY</td>\n",
       "      <td>26.188042</td>\n",
       "      <td>0</td>\n",
       "      <td>2</td>\n",
       "      <td>1</td>\n",
       "      <td>57346</td>\n",
       "      <td>GALAXY</td>\n",
       "      <td>10000</td>\n",
       "      <td>30.012094</td>\n",
       "      <td>339167825</td>\n",
       "    </tr>\n",
       "    <tr>\n",
       "      <th>1</th>\n",
       "      <td>0</td>\n",
       "      <td>QSO</td>\n",
       "      <td>26.582945</td>\n",
       "      <td>0</td>\n",
       "      <td>1024</td>\n",
       "      <td>2</td>\n",
       "      <td>57346</td>\n",
       "      <td>QSO</td>\n",
       "      <td>10000</td>\n",
       "      <td>31.282286</td>\n",
       "      <td>342410358</td>\n",
       "    </tr>\n",
       "    <tr>\n",
       "      <th>2</th>\n",
       "      <td>0</td>\n",
       "      <td>GALAXY</td>\n",
       "      <td>26.608501</td>\n",
       "      <td>0</td>\n",
       "      <td>2</td>\n",
       "      <td>3</td>\n",
       "      <td>57346</td>\n",
       "      <td>GALAXY</td>\n",
       "      <td>10000</td>\n",
       "      <td>31.279594</td>\n",
       "      <td>342410449</td>\n",
       "    </tr>\n",
       "    <tr>\n",
       "      <th>3</th>\n",
       "      <td>0</td>\n",
       "      <td>QSO</td>\n",
       "      <td>26.682522</td>\n",
       "      <td>0</td>\n",
       "      <td>2048</td>\n",
       "      <td>4</td>\n",
       "      <td>57346</td>\n",
       "      <td>QSO</td>\n",
       "      <td>10000</td>\n",
       "      <td>31.237546</td>\n",
       "      <td>342675982</td>\n",
       "    </tr>\n",
       "    <tr>\n",
       "      <th>4</th>\n",
       "      <td>0</td>\n",
       "      <td>STAR</td>\n",
       "      <td>26.866054</td>\n",
       "      <td>0</td>\n",
       "      <td>2</td>\n",
       "      <td>5</td>\n",
       "      <td>57346</td>\n",
       "      <td>GALAXY</td>\n",
       "      <td>10000</td>\n",
       "      <td>31.394521</td>\n",
       "      <td>344112497</td>\n",
       "    </tr>\n",
       "  </tbody>\n",
       "</table>\n",
       "</div>"
      ]
     },
     "output_type": "execute_result",
     "metadata": {}
    }
   ],
   "source": [
    "print 'number of rows =', len(df)\n",
    "df.head()"
   ]
  },
  {
   "cell_type": "markdown",
   "metadata": {},
   "source": [
    "## Computing pixels"
   ]
  },
  {
   "cell_type": "code",
   "execution_count": 12,
   "metadata": {},
   "outputs": [
    {
     "data": {
      "text/plain": [
       "3369"
      ]
     },
     "execution_count": 12,
     "output_type": "execute_result",
     "metadata": {}
    }
   ],
   "source": [
    "'''map celestial coordinates to angular'''\n",
    "\n",
    "#The resolution of the map\n",
    "NSide = 2**5\n",
    "\n",
    "phi_rad   = lambda ra : ra*np.pi/180.\n",
    "theta_rad = lambda dec: (90.0 - dec)*np.pi/180.\n",
    "\n",
    "df['PIX'] = hp.ang2pix(NSide, theta_rad(df['DEC']), phi_rad(df['RA']))\n",
    "\n",
    "# Number of unique pixels\n",
    "len(df['PIX'].unique())"
   ]
  },
  {
   "cell_type": "code",
   "execution_count": 13,
   "metadata": {},
   "outputs": [
    {
     "data": {
      "text/html": [
       "<div>\n",
       "<table border=\"1\" class=\"dataframe\">\n",
       "  <thead>\n",
       "    <tr style=\"text-align: right;\">\n",
       "      <th></th>\n",
       "      <th>BOSS_TARGET1</th>\n",
       "      <th>CLASS</th>\n",
       "      <th>DEC</th>\n",
       "      <th>EBOSS_TARGET0</th>\n",
       "      <th>EBOSS_TARGET1</th>\n",
       "      <th>FIBERID</th>\n",
       "      <th>MJD</th>\n",
       "      <th>OBJTYPE</th>\n",
       "      <th>PLATE</th>\n",
       "      <th>RA</th>\n",
       "      <th>THING_ID</th>\n",
       "      <th>PIX</th>\n",
       "    </tr>\n",
       "  </thead>\n",
       "  <tbody>\n",
       "    <tr>\n",
       "      <th>1</th>\n",
       "      <td>0</td>\n",
       "      <td>QSO</td>\n",
       "      <td>26.582945</td>\n",
       "      <td>0</td>\n",
       "      <td>1024</td>\n",
       "      <td>2</td>\n",
       "      <td>57346</td>\n",
       "      <td>QSO</td>\n",
       "      <td>10000</td>\n",
       "      <td>31.282286</td>\n",
       "      <td>342410358</td>\n",
       "      <td>3403</td>\n",
       "    </tr>\n",
       "    <tr>\n",
       "      <th>3</th>\n",
       "      <td>0</td>\n",
       "      <td>QSO</td>\n",
       "      <td>26.682522</td>\n",
       "      <td>0</td>\n",
       "      <td>2048</td>\n",
       "      <td>4</td>\n",
       "      <td>57346</td>\n",
       "      <td>QSO</td>\n",
       "      <td>10000</td>\n",
       "      <td>31.237546</td>\n",
       "      <td>342675982</td>\n",
       "      <td>3403</td>\n",
       "    </tr>\n",
       "    <tr>\n",
       "      <th>5</th>\n",
       "      <td>0</td>\n",
       "      <td>QSO</td>\n",
       "      <td>26.810259</td>\n",
       "      <td>0</td>\n",
       "      <td>1024</td>\n",
       "      <td>6</td>\n",
       "      <td>57346</td>\n",
       "      <td>QSO</td>\n",
       "      <td>10000</td>\n",
       "      <td>31.327011</td>\n",
       "      <td>344111998</td>\n",
       "      <td>3403</td>\n",
       "    </tr>\n",
       "    <tr>\n",
       "      <th>6</th>\n",
       "      <td>0</td>\n",
       "      <td>QSO</td>\n",
       "      <td>26.935936</td>\n",
       "      <td>0</td>\n",
       "      <td>2048</td>\n",
       "      <td>7</td>\n",
       "      <td>57346</td>\n",
       "      <td>QSO</td>\n",
       "      <td>10000</td>\n",
       "      <td>31.408747</td>\n",
       "      <td>345724597</td>\n",
       "      <td>3275</td>\n",
       "    </tr>\n",
       "    <tr>\n",
       "      <th>7</th>\n",
       "      <td>0</td>\n",
       "      <td>QSO</td>\n",
       "      <td>26.953807</td>\n",
       "      <td>0</td>\n",
       "      <td>1024</td>\n",
       "      <td>8</td>\n",
       "      <td>57346</td>\n",
       "      <td>QSO</td>\n",
       "      <td>10000</td>\n",
       "      <td>31.362048</td>\n",
       "      <td>345724589</td>\n",
       "      <td>3275</td>\n",
       "    </tr>\n",
       "  </tbody>\n",
       "</table>\n",
       "</div>"
      ]
     },
     "output_type": "execute_result",
     "metadata": {}
    }
   ],
   "source": [
    "df = df.query('CLASS== \"QSO\".ljust(6) & (OBJTYPE==\"QSO\".ljust(16) | OBJTYPE==\"NA\".ljust(16)) & THING_ID != -1')\n",
    "df.head()"
   ]
  },
  {
   "cell_type": "markdown",
   "metadata": {},
   "source": [
    "## Searching for quasars"
   ]
  },
  {
   "cell_type": "code",
   "execution_count": 14,
   "metadata": {},
   "outputs": [],
   "source": [
    "bit_boss = [10,11,12,13,14,15,16,17,18,19,40,41,42,43,44]\n",
    "bit_eboss = [10,11,12,13,14,15,16,17,18]\n",
    "\n",
    "def is_quasar(dataset, mask_bit):\n",
    "    is_qso  = lambda b: ((df[dataset] & 2**b) > 0)\n",
    "    all_qso = map(is_qso, mask_bit)\n",
    "    return reduce(lambda x, y: x |  y , all_qso)"
   ]
  },
  {
   "cell_type": "code",
   "execution_count": 15,
   "metadata": {},
   "outputs": [
    {
     "name": "stdout",
     "output_type": "stream",
     "text": [
      "total qso in BOSS_TARGET1 =   285071\n",
      "total qso in EBOSS_TARGET0 =  38164\n",
      "total qso in EBOSS_TARGET1 =  160854\n"
     ]
    }
   ],
   "source": [
    "print 'total qso in BOSS_TARGET1 =  ', is_quasar('BOSS_TARGET1', bit_boss).sum()\n",
    "print 'total qso in EBOSS_TARGET0 = ', is_quasar('EBOSS_TARGET0', bit_eboss).sum()\n",
    "print 'total qso in EBOSS_TARGET1 = ', is_quasar('EBOSS_TARGET1', bit_eboss).sum()"
   ]
  },
  {
   "cell_type": "code",
   "execution_count": 16,
   "metadata": {},
   "outputs": [
    {
     "name": "stdout",
     "output_type": "stream",
     "text": [
      "all_qsos= 484089\n",
      "boss_qsos= 285071\n"
     ]
    }
   ],
   "source": [
    "#Filter only quasars\n",
    "\n",
    "only_qso = df[ is_quasar('BOSS_TARGET1', bit_boss)   |\n",
    "                 is_quasar('EBOSS_TARGET0', bit_eboss) | \n",
    "                 is_quasar('EBOSS_TARGET1', bit_eboss)]\n",
    "boss_qso = df[ is_quasar('BOSS_TARGET1', bit_boss)]\n",
    "\n",
    "print 'all_qsos=', len(only_qso) \n",
    "print 'boss_qsos=', len(boss_qso)"
   ]
  },
  {
   "cell_type": "code",
   "execution_count": 17,
   "metadata": {},
   "outputs": [],
   "source": [
    "#test to generalize\n",
    "#dict_try = {'BOSS_TARGET1':bit_boss, 'EBOSS_TARGET0': bit_eboss, 'EBOSS_TARGET1': bit_eboss}\n",
    "#a = []\n",
    "#for k, v in dict_try.iteritems():\n",
    "#     a.append(is_quasar(k, v))\n",
    "##len(only_qso)\n",
    "#print len(df[reduce(lambda x, y: x |  y , a)])"
   ]
  },
  {
   "cell_type": "code",
   "execution_count": null,
   "metadata": {},
   "outputs": [],
   "source": [
    ""
   ]
  },
  {
   "cell_type": "markdown",
   "metadata": {},
   "source": [
    "## indexing and sorting by index\n"
   ]
  },
  {
   "cell_type": "code",
   "execution_count": 18,
   "metadata": {},
   "outputs": [
    {
     "data": {
      "text/html": [
       "<div>\n",
       "<table border=\"1\" class=\"dataframe\">\n",
       "  <thead>\n",
       "    <tr style=\"text-align: right;\">\n",
       "      <th></th>\n",
       "      <th></th>\n",
       "      <th>BOSS_TARGET1</th>\n",
       "      <th>CLASS</th>\n",
       "      <th>DEC</th>\n",
       "      <th>EBOSS_TARGET0</th>\n",
       "      <th>EBOSS_TARGET1</th>\n",
       "      <th>FIBERID</th>\n",
       "      <th>MJD</th>\n",
       "      <th>OBJTYPE</th>\n",
       "      <th>PLATE</th>\n",
       "      <th>RA</th>\n",
       "      <th>THING_ID</th>\n",
       "      <th>PIX</th>\n",
       "    </tr>\n",
       "    <tr>\n",
       "      <th>PIX</th>\n",
       "      <th>THING_ID</th>\n",
       "      <th></th>\n",
       "      <th></th>\n",
       "      <th></th>\n",
       "      <th></th>\n",
       "      <th></th>\n",
       "      <th></th>\n",
       "      <th></th>\n",
       "      <th></th>\n",
       "      <th></th>\n",
       "      <th></th>\n",
       "      <th></th>\n",
       "      <th></th>\n",
       "    </tr>\n",
       "  </thead>\n",
       "  <tbody>\n",
       "    <tr>\n",
       "      <th rowspan=\"2\" valign=\"top\">391</th>\n",
       "      <th>552894319</th>\n",
       "      <td>2199023796224</td>\n",
       "      <td>QSO</td>\n",
       "      <td>68.381197</td>\n",
       "      <td>0</td>\n",
       "      <td>0</td>\n",
       "      <td>622</td>\n",
       "      <td>56667</td>\n",
       "      <td>QSO</td>\n",
       "      <td>7115</td>\n",
       "      <td>175.258222</td>\n",
       "      <td>552894319</td>\n",
       "      <td>391</td>\n",
       "    </tr>\n",
       "    <tr>\n",
       "      <th>552921545</th>\n",
       "      <td>2199023796224</td>\n",
       "      <td>QSO</td>\n",
       "      <td>68.418125</td>\n",
       "      <td>0</td>\n",
       "      <td>0</td>\n",
       "      <td>624</td>\n",
       "      <td>56667</td>\n",
       "      <td>QSO</td>\n",
       "      <td>7115</td>\n",
       "      <td>175.582630</td>\n",
       "      <td>552921545</td>\n",
       "      <td>391</td>\n",
       "    </tr>\n",
       "    <tr>\n",
       "      <th rowspan=\"3\" valign=\"top\">392</th>\n",
       "      <th>552514273</th>\n",
       "      <td>3298535424000</td>\n",
       "      <td>QSO</td>\n",
       "      <td>68.011275</td>\n",
       "      <td>0</td>\n",
       "      <td>0</td>\n",
       "      <td>932</td>\n",
       "      <td>56748</td>\n",
       "      <td>QSO</td>\n",
       "      <td>6966</td>\n",
       "      <td>185.714425</td>\n",
       "      <td>552514273</td>\n",
       "      <td>392</td>\n",
       "    </tr>\n",
       "    <tr>\n",
       "      <th>552514407</th>\n",
       "      <td>3298535424000</td>\n",
       "      <td>QSO</td>\n",
       "      <td>68.070896</td>\n",
       "      <td>0</td>\n",
       "      <td>0</td>\n",
       "      <td>886</td>\n",
       "      <td>56748</td>\n",
       "      <td>QSO</td>\n",
       "      <td>6966</td>\n",
       "      <td>185.578268</td>\n",
       "      <td>552514407</td>\n",
       "      <td>392</td>\n",
       "    </tr>\n",
       "    <tr>\n",
       "      <th>552727940</th>\n",
       "      <td>3298535424000</td>\n",
       "      <td>QSO</td>\n",
       "      <td>68.328449</td>\n",
       "      <td>0</td>\n",
       "      <td>0</td>\n",
       "      <td>918</td>\n",
       "      <td>56748</td>\n",
       "      <td>QSO</td>\n",
       "      <td>6966</td>\n",
       "      <td>185.944277</td>\n",
       "      <td>552727940</td>\n",
       "      <td>392</td>\n",
       "    </tr>\n",
       "  </tbody>\n",
       "</table>\n",
       "</div>"
      ]
     },
     "output_type": "execute_result",
     "metadata": {}
    }
   ],
   "source": [
    "#Eliminate quasars that have THING_ID == -1\n",
    "\n",
    "all_qso = only_qso.set_index(['PIX','THING_ID'], drop=False).sort_index()\n",
    "all_qso.head()"
   ]
  },
  {
   "cell_type": "code",
   "execution_count": 19,
   "metadata": {},
   "outputs": [
    {
     "name": "stdout",
     "output_type": "stream",
     "text": [
      "484089\n"
     ]
    }
   ],
   "source": [
    "print (len(all_qso))"
   ]
  },
  {
   "cell_type": "code",
   "execution_count": 20,
   "metadata": {},
   "outputs": [],
   "source": [
    "group_dt= all_qso.groupby('THING_ID').size().to_frame('rep')"
   ]
  },
  {
   "cell_type": "markdown",
   "metadata": {},
   "source": [
    "### Qsos which THING_ID is repeated >= 2"
   ]
  },
  {
   "cell_type": "code",
   "execution_count": 21,
   "metadata": {},
   "outputs": [
    {
     "name": "stdout",
     "output_type": "stream",
     "text": [
      "93966\n"
     ]
    }
   ],
   "source": [
    "print (len(all_qso)) - len(group_dt[group_dt['rep']==1])"
   ]
  },
  {
   "cell_type": "code",
   "execution_count": null,
   "metadata": {},
   "outputs": [],
   "source": [
    ""
   ]
  },
  {
   "cell_type": "markdown",
   "metadata": {},
   "source": [
    "### Select  a certain pixel info"
   ]
  },
  {
   "cell_type": "code",
   "execution_count": 22,
   "metadata": {},
   "outputs": [
    {
     "data": {
      "text/html": [
       "<div>\n",
       "<table border=\"1\" class=\"dataframe\">\n",
       "  <thead>\n",
       "    <tr style=\"text-align: right;\">\n",
       "      <th></th>\n",
       "      <th></th>\n",
       "      <th>BOSS_TARGET1</th>\n",
       "      <th>CLASS</th>\n",
       "      <th>DEC</th>\n",
       "      <th>EBOSS_TARGET0</th>\n",
       "      <th>EBOSS_TARGET1</th>\n",
       "      <th>FIBERID</th>\n",
       "      <th>MJD</th>\n",
       "      <th>OBJTYPE</th>\n",
       "      <th>PLATE</th>\n",
       "      <th>RA</th>\n",
       "      <th>THING_ID</th>\n",
       "      <th>PIX</th>\n",
       "    </tr>\n",
       "    <tr>\n",
       "      <th>PIX</th>\n",
       "      <th>THING_ID</th>\n",
       "      <th></th>\n",
       "      <th></th>\n",
       "      <th></th>\n",
       "      <th></th>\n",
       "      <th></th>\n",
       "      <th></th>\n",
       "      <th></th>\n",
       "      <th></th>\n",
       "      <th></th>\n",
       "      <th></th>\n",
       "      <th></th>\n",
       "      <th></th>\n",
       "    </tr>\n",
       "  </thead>\n",
       "  <tbody>\n",
       "    <tr>\n",
       "      <th rowspan=\"5\" valign=\"top\">450</th>\n",
       "      <th>550116719</th>\n",
       "      <td>2199023255552</td>\n",
       "      <td>QSO</td>\n",
       "      <td>66.581635</td>\n",
       "      <td>0</td>\n",
       "      <td>0</td>\n",
       "      <td>914</td>\n",
       "      <td>56720</td>\n",
       "      <td>QSO</td>\n",
       "      <td>6975</td>\n",
       "      <td>185.252205</td>\n",
       "      <td>550116719</td>\n",
       "      <td>450</td>\n",
       "    </tr>\n",
       "    <tr>\n",
       "      <th>550164118</th>\n",
       "      <td>2199023796224</td>\n",
       "      <td>QSO</td>\n",
       "      <td>66.543038</td>\n",
       "      <td>0</td>\n",
       "      <td>0</td>\n",
       "      <td>86</td>\n",
       "      <td>56748</td>\n",
       "      <td>QSO</td>\n",
       "      <td>6966</td>\n",
       "      <td>185.340753</td>\n",
       "      <td>550164118</td>\n",
       "      <td>450</td>\n",
       "    </tr>\n",
       "    <tr>\n",
       "      <th>550164118</th>\n",
       "      <td>2199023796224</td>\n",
       "      <td>QSO</td>\n",
       "      <td>66.543038</td>\n",
       "      <td>0</td>\n",
       "      <td>0</td>\n",
       "      <td>493</td>\n",
       "      <td>56720</td>\n",
       "      <td>QSO</td>\n",
       "      <td>7120</td>\n",
       "      <td>185.340753</td>\n",
       "      <td>550164118</td>\n",
       "      <td>450</td>\n",
       "    </tr>\n",
       "    <tr>\n",
       "      <th>550532243</th>\n",
       "      <td>2199023779840</td>\n",
       "      <td>QSO</td>\n",
       "      <td>66.691725</td>\n",
       "      <td>0</td>\n",
       "      <td>0</td>\n",
       "      <td>132</td>\n",
       "      <td>56748</td>\n",
       "      <td>QSO</td>\n",
       "      <td>6966</td>\n",
       "      <td>185.091304</td>\n",
       "      <td>550532243</td>\n",
       "      <td>450</td>\n",
       "    </tr>\n",
       "    <tr>\n",
       "      <th>550532243</th>\n",
       "      <td>2199023779840</td>\n",
       "      <td>QSO</td>\n",
       "      <td>66.691725</td>\n",
       "      <td>0</td>\n",
       "      <td>0</td>\n",
       "      <td>905</td>\n",
       "      <td>56720</td>\n",
       "      <td>QSO</td>\n",
       "      <td>6975</td>\n",
       "      <td>185.091304</td>\n",
       "      <td>550532243</td>\n",
       "      <td>450</td>\n",
       "    </tr>\n",
       "  </tbody>\n",
       "</table>\n",
       "</div>"
      ]
     },
     "output_type": "execute_result",
     "metadata": {}
    }
   ],
   "source": [
    "#only the first rows of pixel 393\n",
    "all_qso.query('PIX == 450 | PIX == 796').head()"
   ]
  },
  {
   "cell_type": "code",
   "execution_count": 23,
   "metadata": {},
   "outputs": [
    {
     "name": "stdout",
     "output_type": "stream",
     "text": [
      "# of THING_IDs within this pixel = 10\n",
      "# of unique THING_IDs within this pixel = 10\n"
     ]
    }
   ],
   "source": [
    "print '# of THING_IDs within this pixel =', len(all_qso.loc[392].index)\n",
    "print '# of unique THING_IDs within this pixel =', len(all_qso.loc[392].index.unique())"
   ]
  },
  {
   "cell_type": "code",
   "execution_count": 24,
   "metadata": {},
   "outputs": [],
   "source": [
    "#print pixel, thing_id and number of times repeated\n",
    "def pix_with_uniqueid(pix_id, max_rep):\n",
    "    rep_thing_id = all_qso.query('PIX == {}'.format(pix_id)).groupby('THING_ID').size()\n",
    "    if not rep_thing_id[rep_thing_id> max_rep].empty:\n",
    "        print pix_id, dict(rep_thing_id[rep_thing_id> max_rep])"
   ]
  },
  {
   "cell_type": "code",
   "execution_count": 25,
   "metadata": {},
   "outputs": [],
   "source": [
    "list_pix = all_qso['PIX'].unique()"
   ]
  },
  {
   "cell_type": "code",
   "execution_count": 26,
   "metadata": {},
   "outputs": [
    {
     "name": "stdout",
     "output_type": "stream",
     "text": [
      "1051 {505037851: 5}\n"
     ]
    }
   ],
   "source": [
    "#{pix: {thing_id: n_repetitions}}\n",
    "for a in list_pix[:200]:\n",
    "    pix_with_uniqueid(a, 4)"
   ]
  },
  {
   "cell_type": "code",
   "execution_count": 92,
   "metadata": {},
   "outputs": [],
   "source": [
    "def get_file(plate, name_of_file):\n",
    "    url = 'https://data.sdss.org/sas/ebosswork/eboss/spectro/redux/v5_10_0/spectra/%s/%s'%(plate,name_of_file)\n",
    "    username = 'sdss'\n",
    "    password = '2.5-meters'\n",
    "\n",
    "    # I have had to add a carriage return ('%s:%s\\n'), but\n",
    "    # you may not have to.\n",
    "    b64login = b64encode('%s:%s' % (username, password))\n",
    "\n",
    "    br = mechanize.Browser()\n",
    "    br.set_handle_robots(False)\n",
    "    \n",
    "    br.addheaders.append( \n",
    "      ('Authorization', 'Basic %s' % b64login )\n",
    "    )\n",
    "\n",
    "    br.open(url)\n",
    "    r = br.response()\n",
    "    data = r.read()\n",
    "\n",
    "    with open('%s'%(name_of_file),'wb') as output:\n",
    "          output.write(data)"
   ]
  },
  {
   "cell_type": "markdown",
   "metadata": {},
   "source": [
    "## Quasars with same THING_ID"
   ]
  },
  {
   "cell_type": "code",
   "execution_count": 123,
   "metadata": {},
   "outputs": [
    {
     "data": {
      "text/html": [
       "<div>\n",
       "<table border=\"1\" class=\"dataframe\">\n",
       "  <thead>\n",
       "    <tr style=\"text-align: right;\">\n",
       "      <th></th>\n",
       "      <th></th>\n",
       "      <th>BOSS_TARGET1</th>\n",
       "      <th>CLASS</th>\n",
       "      <th>DEC</th>\n",
       "      <th>EBOSS_TARGET0</th>\n",
       "      <th>EBOSS_TARGET1</th>\n",
       "      <th>FIBERID</th>\n",
       "      <th>MJD</th>\n",
       "      <th>OBJTYPE</th>\n",
       "      <th>PLATE</th>\n",
       "      <th>RA</th>\n",
       "      <th>THING_ID</th>\n",
       "      <th>PIX</th>\n",
       "    </tr>\n",
       "    <tr>\n",
       "      <th>PIX</th>\n",
       "      <th>THING_ID</th>\n",
       "      <th></th>\n",
       "      <th></th>\n",
       "      <th></th>\n",
       "      <th></th>\n",
       "      <th></th>\n",
       "      <th></th>\n",
       "      <th></th>\n",
       "      <th></th>\n",
       "      <th></th>\n",
       "      <th></th>\n",
       "      <th></th>\n",
       "      <th></th>\n",
       "    </tr>\n",
       "  </thead>\n",
       "  <tbody>\n",
       "    <tr>\n",
       "      <th rowspan=\"14\" valign=\"top\">6221</th>\n",
       "      <th>70363665</th>\n",
       "      <td>6144</td>\n",
       "      <td>QSO</td>\n",
       "      <td>-1.106512</td>\n",
       "      <td>0</td>\n",
       "      <td>0</td>\n",
       "      <td>333</td>\n",
       "      <td>55179</td>\n",
       "      <td>QSO</td>\n",
       "      <td>3615</td>\n",
       "      <td>36.849995</td>\n",
       "      <td>70363665</td>\n",
       "      <td>6221</td>\n",
       "    </tr>\n",
       "    <tr>\n",
       "      <th>70363665</th>\n",
       "      <td>6144</td>\n",
       "      <td>QSO</td>\n",
       "      <td>-1.106512</td>\n",
       "      <td>0</td>\n",
       "      <td>0</td>\n",
       "      <td>327</td>\n",
       "      <td>55208</td>\n",
       "      <td>QSO</td>\n",
       "      <td>3615</td>\n",
       "      <td>36.849995</td>\n",
       "      <td>70363665</td>\n",
       "      <td>6221</td>\n",
       "    </tr>\n",
       "    <tr>\n",
       "      <th>70363665</th>\n",
       "      <td>6144</td>\n",
       "      <td>QSO</td>\n",
       "      <td>-1.106512</td>\n",
       "      <td>0</td>\n",
       "      <td>0</td>\n",
       "      <td>325</td>\n",
       "      <td>55445</td>\n",
       "      <td>QSO</td>\n",
       "      <td>3615</td>\n",
       "      <td>36.849995</td>\n",
       "      <td>70363665</td>\n",
       "      <td>6221</td>\n",
       "    </tr>\n",
       "    <tr>\n",
       "      <th>70363665</th>\n",
       "      <td>6144</td>\n",
       "      <td>QSO</td>\n",
       "      <td>-1.106512</td>\n",
       "      <td>0</td>\n",
       "      <td>0</td>\n",
       "      <td>331</td>\n",
       "      <td>55856</td>\n",
       "      <td>QSO</td>\n",
       "      <td>3615</td>\n",
       "      <td>36.849995</td>\n",
       "      <td>70363665</td>\n",
       "      <td>6221</td>\n",
       "    </tr>\n",
       "    <tr>\n",
       "      <th>70363665</th>\n",
       "      <td>6144</td>\n",
       "      <td>QSO</td>\n",
       "      <td>-1.106512</td>\n",
       "      <td>0</td>\n",
       "      <td>0</td>\n",
       "      <td>333</td>\n",
       "      <td>56219</td>\n",
       "      <td>QSO</td>\n",
       "      <td>3615</td>\n",
       "      <td>36.849995</td>\n",
       "      <td>70363665</td>\n",
       "      <td>6221</td>\n",
       "    </tr>\n",
       "    <tr>\n",
       "      <th>70363665</th>\n",
       "      <td>6144</td>\n",
       "      <td>QSO</td>\n",
       "      <td>-1.106512</td>\n",
       "      <td>0</td>\n",
       "      <td>0</td>\n",
       "      <td>335</td>\n",
       "      <td>56544</td>\n",
       "      <td>QSO</td>\n",
       "      <td>3615</td>\n",
       "      <td>36.849995</td>\n",
       "      <td>70363665</td>\n",
       "      <td>6221</td>\n",
       "    </tr>\n",
       "    <tr>\n",
       "      <th>70363665</th>\n",
       "      <td>6144</td>\n",
       "      <td>QSO</td>\n",
       "      <td>-1.106512</td>\n",
       "      <td>0</td>\n",
       "      <td>0</td>\n",
       "      <td>330</td>\n",
       "      <td>55181</td>\n",
       "      <td>QSO</td>\n",
       "      <td>3647</td>\n",
       "      <td>36.849995</td>\n",
       "      <td>70363665</td>\n",
       "      <td>6221</td>\n",
       "    </tr>\n",
       "    <tr>\n",
       "      <th>70363665</th>\n",
       "      <td>6144</td>\n",
       "      <td>QSO</td>\n",
       "      <td>-1.106512</td>\n",
       "      <td>0</td>\n",
       "      <td>0</td>\n",
       "      <td>322</td>\n",
       "      <td>55241</td>\n",
       "      <td>QSO</td>\n",
       "      <td>3647</td>\n",
       "      <td>36.849995</td>\n",
       "      <td>70363665</td>\n",
       "      <td>6221</td>\n",
       "    </tr>\n",
       "    <tr>\n",
       "      <th>70363665</th>\n",
       "      <td>6144</td>\n",
       "      <td>QSO</td>\n",
       "      <td>-1.106512</td>\n",
       "      <td>0</td>\n",
       "      <td>0</td>\n",
       "      <td>340</td>\n",
       "      <td>55476</td>\n",
       "      <td>QSO</td>\n",
       "      <td>3647</td>\n",
       "      <td>36.849995</td>\n",
       "      <td>70363665</td>\n",
       "      <td>6221</td>\n",
       "    </tr>\n",
       "    <tr>\n",
       "      <th>70363665</th>\n",
       "      <td>6144</td>\n",
       "      <td>QSO</td>\n",
       "      <td>-1.106512</td>\n",
       "      <td>0</td>\n",
       "      <td>0</td>\n",
       "      <td>328</td>\n",
       "      <td>55827</td>\n",
       "      <td>QSO</td>\n",
       "      <td>3647</td>\n",
       "      <td>36.849995</td>\n",
       "      <td>70363665</td>\n",
       "      <td>6221</td>\n",
       "    </tr>\n",
       "    <tr>\n",
       "      <th>70363665</th>\n",
       "      <td>6144</td>\n",
       "      <td>QSO</td>\n",
       "      <td>-1.106512</td>\n",
       "      <td>0</td>\n",
       "      <td>0</td>\n",
       "      <td>292</td>\n",
       "      <td>55945</td>\n",
       "      <td>QSO</td>\n",
       "      <td>3647</td>\n",
       "      <td>36.849995</td>\n",
       "      <td>70363665</td>\n",
       "      <td>6221</td>\n",
       "    </tr>\n",
       "    <tr>\n",
       "      <th>70363665</th>\n",
       "      <td>6144</td>\n",
       "      <td>QSO</td>\n",
       "      <td>-1.106512</td>\n",
       "      <td>0</td>\n",
       "      <td>0</td>\n",
       "      <td>334</td>\n",
       "      <td>56219</td>\n",
       "      <td>QSO</td>\n",
       "      <td>3647</td>\n",
       "      <td>36.849995</td>\n",
       "      <td>70363665</td>\n",
       "      <td>6221</td>\n",
       "    </tr>\n",
       "    <tr>\n",
       "      <th>70363665</th>\n",
       "      <td>6144</td>\n",
       "      <td>QSO</td>\n",
       "      <td>-1.106512</td>\n",
       "      <td>0</td>\n",
       "      <td>0</td>\n",
       "      <td>328</td>\n",
       "      <td>56568</td>\n",
       "      <td>QSO</td>\n",
       "      <td>3647</td>\n",
       "      <td>36.849995</td>\n",
       "      <td>70363665</td>\n",
       "      <td>6221</td>\n",
       "    </tr>\n",
       "    <tr>\n",
       "      <th>70363665</th>\n",
       "      <td>6144</td>\n",
       "      <td>QSO</td>\n",
       "      <td>-1.106512</td>\n",
       "      <td>0</td>\n",
       "      <td>0</td>\n",
       "      <td>324</td>\n",
       "      <td>56596</td>\n",
       "      <td>QSO</td>\n",
       "      <td>3647</td>\n",
       "      <td>36.849995</td>\n",
       "      <td>70363665</td>\n",
       "      <td>6221</td>\n",
       "    </tr>\n",
       "  </tbody>\n",
       "</table>\n",
       "</div>"
      ]
     },
     "output_type": "execute_result",
     "metadata": {}
    }
   ],
   "source": [
    "thing_id = 70363665 #110619413 #341840093 \n",
    "all_qso.query('THING_ID == %s'%(thing_id))"
   ]
  },
  {
   "cell_type": "code",
   "execution_count": 124,
   "metadata": {},
   "outputs": [],
   "source": [
    "plates   = list(all_qso.query('THING_ID == %s'%(thing_id))['PLATE'].values)\n",
    "mjds     = list(all_qso.query('THING_ID == %s'%(thing_id))['MJD'].values)\n",
    "fiberids = list(all_qso.query('THING_ID == %s'%(thing_id))['FIBERID'].values)"
   ]
  },
  {
   "cell_type": "code",
   "execution_count": 125,
   "metadata": {},
   "outputs": [],
   "source": [
    "files = ['data/spectra/%s/spec-%s-%s-%s.fits'%(plate,plate,mjd,str(fiberid).zfill(4)) for plate,mjd,fiberid in zip(plates,mjds,fiberids)]\n",
    "plate_n = ['%s'%(plate) for plate in plates]"
   ]
  },
  {
   "cell_type": "code",
   "execution_count": 126,
   "metadata": {},
   "outputs": [],
   "source": [
    "#get files from the web and store them into your current directory\n",
    "#for plate, names in zip(plates, files):\n",
    "#    get_file(plate, names)"
   ]
  },
  {
   "cell_type": "code",
   "execution_count": 127,
   "metadata": {},
   "outputs": [],
   "source": [
    "#read fits files \n",
    "\n",
    "def read_flux_file(files):\n",
    "    fits = fitsio.FITS(files)\n",
    "    cols = ['flux','loglam','ivar','and_mask','or_mask', 'wdisp', 'sky', 'model']\n",
    "    d = {col: fits[1][col].read().byteswap().newbyteorder() for col in cols}\n",
    "    df = pd.DataFrame(d)\n",
    "    return df"
   ]
  },
  {
   "cell_type": "code",
   "execution_count": 128,
   "metadata": {},
   "outputs": [],
   "source": [
    "dt_s=[]\n",
    "for l in files:\n",
    "        dt_x = read_flux_file(l).set_index('loglam')\n",
    "        dt_s.append(dt_x)"
   ]
  },
  {
   "cell_type": "code",
   "execution_count": 129,
   "metadata": {},
   "outputs": [
    {
     "data": {
      "text/html": [
       "<div>\n",
       "<table border=\"1\" class=\"dataframe\">\n",
       "  <thead>\n",
       "    <tr style=\"text-align: right;\">\n",
       "      <th></th>\n",
       "      <th>and_mask</th>\n",
       "      <th>flux</th>\n",
       "      <th>ivar</th>\n",
       "      <th>model</th>\n",
       "      <th>or_mask</th>\n",
       "      <th>sky</th>\n",
       "      <th>wdisp</th>\n",
       "    </tr>\n",
       "    <tr>\n",
       "      <th>loglam</th>\n",
       "      <th></th>\n",
       "      <th></th>\n",
       "      <th></th>\n",
       "      <th></th>\n",
       "      <th></th>\n",
       "      <th></th>\n",
       "      <th></th>\n",
       "    </tr>\n",
       "  </thead>\n",
       "  <tbody>\n",
       "    <tr>\n",
       "      <th>3.5513</th>\n",
       "      <td>0</td>\n",
       "      <td>5.660522</td>\n",
       "      <td>0.007758</td>\n",
       "      <td>10.939479</td>\n",
       "      <td>71303168</td>\n",
       "      <td>10.627782</td>\n",
       "      <td>1.386601</td>\n",
       "    </tr>\n",
       "    <tr>\n",
       "      <th>3.5514</th>\n",
       "      <td>0</td>\n",
       "      <td>11.522345</td>\n",
       "      <td>0.000000</td>\n",
       "      <td>11.282415</td>\n",
       "      <td>71303168</td>\n",
       "      <td>10.319550</td>\n",
       "      <td>1.386619</td>\n",
       "    </tr>\n",
       "    <tr>\n",
       "      <th>3.5515</th>\n",
       "      <td>0</td>\n",
       "      <td>17.382343</td>\n",
       "      <td>0.011612</td>\n",
       "      <td>11.654572</td>\n",
       "      <td>71303168</td>\n",
       "      <td>9.531321</td>\n",
       "      <td>1.386629</td>\n",
       "    </tr>\n",
       "    <tr>\n",
       "      <th>3.5516</th>\n",
       "      <td>0</td>\n",
       "      <td>-3.837492</td>\n",
       "      <td>0.011451</td>\n",
       "      <td>11.976680</td>\n",
       "      <td>71303168</td>\n",
       "      <td>8.896579</td>\n",
       "      <td>1.386638</td>\n",
       "    </tr>\n",
       "    <tr>\n",
       "      <th>3.5517</th>\n",
       "      <td>0</td>\n",
       "      <td>26.925772</td>\n",
       "      <td>0.015804</td>\n",
       "      <td>12.000217</td>\n",
       "      <td>71303168</td>\n",
       "      <td>8.585602</td>\n",
       "      <td>1.352317</td>\n",
       "    </tr>\n",
       "  </tbody>\n",
       "</table>\n",
       "</div>"
      ]
     },
     "output_type": "execute_result",
     "metadata": {}
    }
   ],
   "source": [
    "# Masking\n",
    "mask=[]\n",
    "for s in dt_s:\n",
    "    mask.append(s.query('and_mask==0').copy())\n",
    "mask[1].head()"
   ]
  },
  {
   "cell_type": "code",
   "execution_count": 130,
   "metadata": {},
   "outputs": [
    {
     "data": {
      "text/plain": [
       "<matplotlib.legend.Legend at 0x131104590>"
      ]
     },
     "execution_count": 130,
     "output_type": "execute_result",
     "metadata": {}
    },
    {
     "data": {
      "image/png": "[encoded data removed]"
     },
     "output_type": "display_data",
     "metadata": {}
    }
   ],
   "source": [
    "fig = plt.figure(figsize = (15, 10))\n",
    "xlimits = [3.55,4]\n",
    "ylimits = [-10,30]\n",
    "for i in range(len(files)):\n",
    "    dt_s[i]['flux'].plot(label=files[i],xlim=xlimits, ylim=ylimits) \n",
    "plt.legend(loc='best')"
   ]
  },
  {
   "cell_type": "code",
   "execution_count": 131,
   "metadata": {},
   "outputs": [],
   "source": [
    "#check for the xrange and the size of the step\n",
    "\n",
    "#print [len(mask[i]) for i in range(5)]\n",
    "#for i in range(5):\n",
    "#    print (mask[i].index.values.min()- mask[i].index.values.max())/len(mask[i])\n",
    "#for i in range(len(files)):\n",
    "#    x=dt_s[i].index.values\n",
    "    #print(len(x))\n",
    "    #print (x[-1]-x[0])/(len(x)-1)"
   ]
  },
  {
   "cell_type": "code",
   "execution_count": 132,
   "metadata": {},
   "outputs": [],
   "source": [
    "#plot for the masks\n",
    "\n",
    "#fig = plt.figure(figsize = (15, 10))\n",
    "#ax= plt.subplot(1,1,1)\n",
    "##dt_s\n",
    "#mask[0][['flux','model', 'ivar']].plot(ax=ax)\n",
    "#mask[1][['flux','model', 'ivar']].plot(ax=ax)"
   ]
  },
  {
   "cell_type": "code",
   "execution_count": 133,
   "metadata": {},
   "outputs": [],
   "source": [
    "#read coefficients\n",
    "\n",
    "#fits = fitsio.FITS(files[0])\n",
    "#coeff0, coeff1 = fits[0].read_header()['COEFF0'], fits[0].read_header()['COEFF1']\n",
    "#for f in files:\n",
    "#    fits = fitsio.FITS(f)\n",
    "#    print fits[0].read_header()['COEFF0'], fits[0].read_header()['COEFF1']\n",
    "\n",
    "#for i in range(len(files)):\n",
    "#    x=dt_s[i].index.values\n",
    "#    print (x[-1]-x[0])/(len(x)-1), len(x)"
   ]
  },
  {
   "cell_type": "code",
   "execution_count": 134,
   "metadata": {},
   "outputs": [],
   "source": [
    "for i in range(len(files)):\n",
    "        dt_s[i]['flux_%s'%(i)] = dt_s[i]['flux']\n",
    "        dt_s[i]['ivar_%s'%(i)] = dt_s[i]['ivar']"
   ]
  },
  {
   "cell_type": "code",
   "execution_count": 135,
   "metadata": {},
   "outputs": [
    {
     "data": {
      "text/html": [
       "<div>\n",
       "<table border=\"1\" class=\"dataframe\">\n",
       "  <thead>\n",
       "    <tr style=\"text-align: right;\">\n",
       "      <th></th>\n",
       "      <th>flux_0</th>\n",
       "      <th>ivar_0</th>\n",
       "      <th>flux_1</th>\n",
       "      <th>ivar_1</th>\n",
       "      <th>flux_2</th>\n",
       "      <th>ivar_2</th>\n",
       "      <th>flux_3</th>\n",
       "      <th>ivar_3</th>\n",
       "      <th>flux_4</th>\n",
       "      <th>ivar_4</th>\n",
       "      <th>...</th>\n",
       "      <th>flux_9</th>\n",
       "      <th>ivar_9</th>\n",
       "      <th>flux_10</th>\n",
       "      <th>ivar_10</th>\n",
       "      <th>flux_11</th>\n",
       "      <th>ivar_11</th>\n",
       "      <th>flux_12</th>\n",
       "      <th>ivar_12</th>\n",
       "      <th>flux_13</th>\n",
       "      <th>ivar_13</th>\n",
       "    </tr>\n",
       "    <tr>\n",
       "      <th>loglam</th>\n",
       "      <th></th>\n",
       "      <th></th>\n",
       "      <th></th>\n",
       "      <th></th>\n",
       "      <th></th>\n",
       "      <th></th>\n",
       "      <th></th>\n",
       "      <th></th>\n",
       "      <th></th>\n",
       "      <th></th>\n",
       "      <th></th>\n",
       "      <th></th>\n",
       "      <th></th>\n",
       "      <th></th>\n",
       "      <th></th>\n",
       "      <th></th>\n",
       "      <th></th>\n",
       "      <th></th>\n",
       "      <th></th>\n",
       "      <th></th>\n",
       "      <th></th>\n",
       "    </tr>\n",
       "  </thead>\n",
       "  <tbody>\n",
       "    <tr>\n",
       "      <th>3.5506</th>\n",
       "      <td>0.000000</td>\n",
       "      <td>0.000000</td>\n",
       "      <td>0.0</td>\n",
       "      <td>0.0</td>\n",
       "      <td>0.0</td>\n",
       "      <td>0.0</td>\n",
       "      <td>1.743519</td>\n",
       "      <td>0.129898</td>\n",
       "      <td>0.0</td>\n",
       "      <td>0.0</td>\n",
       "      <td>...</td>\n",
       "      <td>0.000000</td>\n",
       "      <td>0.000000</td>\n",
       "      <td>0.000000</td>\n",
       "      <td>0.000000</td>\n",
       "      <td>0.0</td>\n",
       "      <td>0.0</td>\n",
       "      <td>0.0</td>\n",
       "      <td>0.0</td>\n",
       "      <td>0.0</td>\n",
       "      <td>0.0</td>\n",
       "    </tr>\n",
       "    <tr>\n",
       "      <th>3.5507</th>\n",
       "      <td>14.439321</td>\n",
       "      <td>0.028573</td>\n",
       "      <td>0.0</td>\n",
       "      <td>0.0</td>\n",
       "      <td>0.0</td>\n",
       "      <td>0.0</td>\n",
       "      <td>8.966564</td>\n",
       "      <td>0.130600</td>\n",
       "      <td>0.0</td>\n",
       "      <td>0.0</td>\n",
       "      <td>...</td>\n",
       "      <td>0.000000</td>\n",
       "      <td>0.000000</td>\n",
       "      <td>0.000000</td>\n",
       "      <td>0.000000</td>\n",
       "      <td>0.0</td>\n",
       "      <td>0.0</td>\n",
       "      <td>0.0</td>\n",
       "      <td>0.0</td>\n",
       "      <td>0.0</td>\n",
       "      <td>0.0</td>\n",
       "    </tr>\n",
       "    <tr>\n",
       "      <th>3.5508</th>\n",
       "      <td>4.269167</td>\n",
       "      <td>0.031189</td>\n",
       "      <td>0.0</td>\n",
       "      <td>0.0</td>\n",
       "      <td>0.0</td>\n",
       "      <td>0.0</td>\n",
       "      <td>7.403212</td>\n",
       "      <td>0.136290</td>\n",
       "      <td>0.0</td>\n",
       "      <td>0.0</td>\n",
       "      <td>...</td>\n",
       "      <td>0.000000</td>\n",
       "      <td>0.000000</td>\n",
       "      <td>1.195831</td>\n",
       "      <td>0.071716</td>\n",
       "      <td>0.0</td>\n",
       "      <td>0.0</td>\n",
       "      <td>0.0</td>\n",
       "      <td>0.0</td>\n",
       "      <td>0.0</td>\n",
       "      <td>0.0</td>\n",
       "    </tr>\n",
       "    <tr>\n",
       "      <th>3.5509</th>\n",
       "      <td>0.509184</td>\n",
       "      <td>0.037660</td>\n",
       "      <td>0.0</td>\n",
       "      <td>0.0</td>\n",
       "      <td>0.0</td>\n",
       "      <td>0.0</td>\n",
       "      <td>5.787300</td>\n",
       "      <td>0.141141</td>\n",
       "      <td>0.0</td>\n",
       "      <td>0.0</td>\n",
       "      <td>...</td>\n",
       "      <td>1.134189</td>\n",
       "      <td>0.049955</td>\n",
       "      <td>7.516639</td>\n",
       "      <td>0.116006</td>\n",
       "      <td>0.0</td>\n",
       "      <td>0.0</td>\n",
       "      <td>0.0</td>\n",
       "      <td>0.0</td>\n",
       "      <td>0.0</td>\n",
       "      <td>0.0</td>\n",
       "    </tr>\n",
       "    <tr>\n",
       "      <th>3.5510</th>\n",
       "      <td>18.426132</td>\n",
       "      <td>0.032795</td>\n",
       "      <td>0.0</td>\n",
       "      <td>0.0</td>\n",
       "      <td>0.0</td>\n",
       "      <td>0.0</td>\n",
       "      <td>8.501765</td>\n",
       "      <td>0.145306</td>\n",
       "      <td>0.0</td>\n",
       "      <td>0.0</td>\n",
       "      <td>...</td>\n",
       "      <td>5.511256</td>\n",
       "      <td>0.000000</td>\n",
       "      <td>7.766233</td>\n",
       "      <td>0.111643</td>\n",
       "      <td>0.0</td>\n",
       "      <td>0.0</td>\n",
       "      <td>0.0</td>\n",
       "      <td>0.0</td>\n",
       "      <td>0.0</td>\n",
       "      <td>0.0</td>\n",
       "    </tr>\n",
       "  </tbody>\n",
       "</table>\n",
       "<p>5 rows × 28 columns</p>\n",
       "</div>"
      ]
     },
     "output_type": "execute_result",
     "metadata": {}
    }
   ],
   "source": [
    "x =range(len(files))\n",
    "result = pd.concat([dt_s[i][['flux_%s'%(i),'ivar_%s'%(i)]] for i in x], axis=1)\n",
    "all_qsos= result.fillna(0).copy()\n",
    "all_qsos.head()"
   ]
  },
  {
   "cell_type": "code",
   "execution_count": 136,
   "metadata": {},
   "outputs": [],
   "source": [
    "all_qsos['sum_flux_ivar']=0\n",
    "all_qsos['sum_ivar']=0\n",
    "for i in x:\n",
    "    all_qsos['sum_flux_ivar'] += all_qsos['flux_%s'%(i)]*all_qsos['ivar_%s'%(i)]\n",
    "    all_qsos['sum_ivar']      += all_qsos['ivar_%s'%(i)] \n",
    "all_qsos['coadd'] = all_qsos['sum_flux_ivar']/all_qsos['sum_ivar']"
   ]
  },
  {
   "cell_type": "code",
   "execution_count": 138,
   "metadata": {},
   "outputs": [
    {
     "data": {
      "text/plain": [
       "<matplotlib.legend.Legend at 0x12c4ed9d0>"
      ]
     },
     "execution_count": 138,
     "output_type": "execute_result",
     "metadata": {}
    },
    {
     "data": {
      "image/png": "[encoded data removed]"
     },
     "output_type": "display_data",
     "metadata": {}
    }
   ],
   "source": [
    "fig = plt.figure(figsize = (15, 10))\n",
    "ax= plt.subplot(1,1,1)\n",
    "xlimits = [3.55,4]\n",
    "ylimits = [-10,25]\n",
    "all_qsos['coadd'].plot(ax=ax, label='coad', xlim=xlimits, ylim=ylimits)\n",
    "plt.legend(loc='best')"
   ]
  },
  {
   "cell_type": "code",
   "execution_count": 139,
   "metadata": {},
   "outputs": [
    {
     "data": {
      "text/plain": [
       "array([  1.74351946,   9.94896668,   5.13345289, ...,  18.40750894,\n",
       "        32.28072165, -11.4364636 ])"
      ]
     },
     "execution_count": 139,
     "output_type": "execute_result",
     "metadata": {}
    }
   ],
   "source": [
    "all_qsos = all_qsos.fillna(0).copy()\n",
    "all_qsos['coadd'].values"
   ]
  },
  {
   "cell_type": "code",
   "execution_count": 140,
   "metadata": {},
   "outputs": [
    {
     "name": "stdout",
     "output_type": "stream",
     "text": [
      "chi-sq= 11.0806552091 \t\tdata/spectra/3615/spec-3615-55179-0333.fits\n",
      "chi-sq= 15.5837194307 \t\tdata/spectra/3615/spec-3615-55208-0327.fits\n",
      "chi-sq= 43.5316259298 \t\tdata/spectra/3615/spec-3615-55445-0325.fits\n",
      "chi-sq= 6.51136711835 \t\tdata/spectra/3615/spec-3615-55856-0331.fits\n",
      "chi-sq= 4.83151155562 \t\tdata/spectra/3615/spec-3615-56219-0333.fits\n",
      "chi-sq= 24.7237862977 \t\tdata/spectra/3615/spec-3615-56544-0335.fits\n",
      "chi-sq= 24.6607090964 \t\tdata/spectra/3647/spec-3647-55181-0330.fits\n",
      "chi-sq= 14.4279783514 \t\tdata/spectra/3647/spec-3647-55241-0322.fits\n",
      "chi-sq= 16.7901532284 \t\tdata/spectra/3647/spec-3647-55476-0340.fits\n",
      "chi-sq= 5.43391697322 \t\tdata/spectra/3647/spec-3647-55827-0328.fits\n",
      "chi-sq= 5.64627810768 \t\tdata/spectra/3647/spec-3647-55945-0292.fits\n",
      "chi-sq= 5.07016710758 \t\tdata/spectra/3647/spec-3647-56219-0334.fits\n",
      "chi-sq= 14.4399543914 \t\tdata/spectra/3647/spec-3647-56568-0328.fits\n",
      "chi-sq= 11.1185552881 \t\tdata/spectra/3647/spec-3647-56596-0324.fits\n"
     ]
    }
   ],
   "source": [
    "for i in x:\n",
    "    chi_squared = np.sum((all_qsos['coadd'].values - all_qsos['flux_%s'%(i)].values)**2*all_qsos['ivar_%s'%(i)].values)\n",
    "    print  'chi-sq=',chi_squared/len(all_qsos.values), '\\t\\t', files[i]"
   ]
  },
  {
   "cell_type": "code",
   "execution_count": 642,
   "metadata": {},
   "outputs": [
    {
     "data": {
      "text/html": [
       "<div>\n",
       "<table border=\"1\" class=\"dataframe\">\n",
       "  <thead>\n",
       "    <tr style=\"text-align: right;\">\n",
       "      <th></th>\n",
       "      <th>flux_0</th>\n",
       "      <th>ivar_0</th>\n",
       "      <th>flux_1</th>\n",
       "      <th>ivar_1</th>\n",
       "      <th>flux_2</th>\n",
       "      <th>ivar_2</th>\n",
       "      <th>flux_3</th>\n",
       "      <th>ivar_3</th>\n",
       "      <th>flux_4</th>\n",
       "      <th>ivar_4</th>\n",
       "      <th>...</th>\n",
       "      <th>ivar_13</th>\n",
       "      <th>flux_14</th>\n",
       "      <th>ivar_14</th>\n",
       "      <th>flux_15</th>\n",
       "      <th>ivar_15</th>\n",
       "      <th>flux_16</th>\n",
       "      <th>ivar_16</th>\n",
       "      <th>sum_flux_ivar</th>\n",
       "      <th>sum_ivar</th>\n",
       "      <th>coadd</th>\n",
       "    </tr>\n",
       "    <tr>\n",
       "      <th>loglam</th>\n",
       "      <th></th>\n",
       "      <th></th>\n",
       "      <th></th>\n",
       "      <th></th>\n",
       "      <th></th>\n",
       "      <th></th>\n",
       "      <th></th>\n",
       "      <th></th>\n",
       "      <th></th>\n",
       "      <th></th>\n",
       "      <th></th>\n",
       "      <th></th>\n",
       "      <th></th>\n",
       "      <th></th>\n",
       "      <th></th>\n",
       "      <th></th>\n",
       "      <th></th>\n",
       "      <th></th>\n",
       "      <th></th>\n",
       "      <th></th>\n",
       "      <th></th>\n",
       "    </tr>\n",
       "  </thead>\n",
       "  <tbody>\n",
       "    <tr>\n",
       "      <th>3.5525</th>\n",
       "      <td>0.0</td>\n",
       "      <td>0.0</td>\n",
       "      <td>0.0</td>\n",
       "      <td>0.0</td>\n",
       "      <td>0.0</td>\n",
       "      <td>0.0</td>\n",
       "      <td>0.0</td>\n",
       "      <td>0.0</td>\n",
       "      <td>0.0</td>\n",
       "      <td>0.0</td>\n",
       "      <td>...</td>\n",
       "      <td>0.0</td>\n",
       "      <td>0.0</td>\n",
       "      <td>0.0</td>\n",
       "      <td>0.0</td>\n",
       "      <td>0.0</td>\n",
       "      <td>0.0</td>\n",
       "      <td>0.0</td>\n",
       "      <td>0.070327</td>\n",
       "      <td>0.008784</td>\n",
       "      <td>8.006026</td>\n",
       "    </tr>\n",
       "    <tr>\n",
       "      <th>3.5526</th>\n",
       "      <td>0.0</td>\n",
       "      <td>0.0</td>\n",
       "      <td>0.0</td>\n",
       "      <td>0.0</td>\n",
       "      <td>0.0</td>\n",
       "      <td>0.0</td>\n",
       "      <td>0.0</td>\n",
       "      <td>0.0</td>\n",
       "      <td>0.0</td>\n",
       "      <td>0.0</td>\n",
       "      <td>...</td>\n",
       "      <td>0.0</td>\n",
       "      <td>0.0</td>\n",
       "      <td>0.0</td>\n",
       "      <td>0.0</td>\n",
       "      <td>0.0</td>\n",
       "      <td>0.0</td>\n",
       "      <td>0.0</td>\n",
       "      <td>0.077585</td>\n",
       "      <td>0.008695</td>\n",
       "      <td>8.923294</td>\n",
       "    </tr>\n",
       "    <tr>\n",
       "      <th>3.5527</th>\n",
       "      <td>0.0</td>\n",
       "      <td>0.0</td>\n",
       "      <td>0.0</td>\n",
       "      <td>0.0</td>\n",
       "      <td>0.0</td>\n",
       "      <td>0.0</td>\n",
       "      <td>0.0</td>\n",
       "      <td>0.0</td>\n",
       "      <td>0.0</td>\n",
       "      <td>0.0</td>\n",
       "      <td>...</td>\n",
       "      <td>0.0</td>\n",
       "      <td>0.0</td>\n",
       "      <td>0.0</td>\n",
       "      <td>0.0</td>\n",
       "      <td>0.0</td>\n",
       "      <td>0.0</td>\n",
       "      <td>0.0</td>\n",
       "      <td>0.059792</td>\n",
       "      <td>0.009495</td>\n",
       "      <td>6.297128</td>\n",
       "    </tr>\n",
       "    <tr>\n",
       "      <th>3.5528</th>\n",
       "      <td>0.0</td>\n",
       "      <td>0.0</td>\n",
       "      <td>0.0</td>\n",
       "      <td>0.0</td>\n",
       "      <td>0.0</td>\n",
       "      <td>0.0</td>\n",
       "      <td>0.0</td>\n",
       "      <td>0.0</td>\n",
       "      <td>0.0</td>\n",
       "      <td>0.0</td>\n",
       "      <td>...</td>\n",
       "      <td>0.0</td>\n",
       "      <td>0.0</td>\n",
       "      <td>0.0</td>\n",
       "      <td>0.0</td>\n",
       "      <td>0.0</td>\n",
       "      <td>0.0</td>\n",
       "      <td>0.0</td>\n",
       "      <td>-0.061222</td>\n",
       "      <td>0.011081</td>\n",
       "      <td>-5.524771</td>\n",
       "    </tr>\n",
       "    <tr>\n",
       "      <th>3.5529</th>\n",
       "      <td>0.0</td>\n",
       "      <td>0.0</td>\n",
       "      <td>0.0</td>\n",
       "      <td>0.0</td>\n",
       "      <td>0.0</td>\n",
       "      <td>0.0</td>\n",
       "      <td>0.0</td>\n",
       "      <td>0.0</td>\n",
       "      <td>0.0</td>\n",
       "      <td>0.0</td>\n",
       "      <td>...</td>\n",
       "      <td>0.0</td>\n",
       "      <td>0.0</td>\n",
       "      <td>0.0</td>\n",
       "      <td>0.0</td>\n",
       "      <td>0.0</td>\n",
       "      <td>0.0</td>\n",
       "      <td>0.0</td>\n",
       "      <td>-0.061483</td>\n",
       "      <td>0.011337</td>\n",
       "      <td>-5.423411</td>\n",
       "    </tr>\n",
       "  </tbody>\n",
       "</table>\n",
       "<p>5 rows × 37 columns</p>\n",
       "</div>"
      ]
     },
     "output_type": "execute_result",
     "metadata": {}
    }
   ],
   "source": [
    "all_qsos.head()"
   ]
  },
  {
   "cell_type": "code",
   "execution_count": null,
   "metadata": {},
   "outputs": [],
   "source": [
    ""
   ]
  },
  {
   "cell_type": "code",
   "execution_count": null,
   "metadata": {},
   "outputs": [],
   "source": [
    ""
   ]
  },
  {
   "cell_type": "code",
   "execution_count": null,
   "metadata": {},
   "outputs": [],
   "source": [
    ""
   ]
  },
  {
   "cell_type": "code",
   "execution_count": null,
   "metadata": {},
   "outputs": [],
   "source": [
    ""
   ]
  },
  {
   "cell_type": "code",
   "execution_count": null,
   "metadata": {},
   "outputs": [],
   "source": [
    ""
   ]
  },
  {
   "cell_type": "code",
   "execution_count": null,
   "metadata": {},
   "outputs": [],
   "source": [
    ""
   ]
  },
  {
   "cell_type": "code",
   "execution_count": null,
   "metadata": {},
   "outputs": [],
   "source": [
    ""
   ]
  },
  {
   "cell_type": "code",
   "execution_count": 836,
   "metadata": {},
   "outputs": [],
   "source": [
    "vect ={'spec-10000-57346-0092.fits': 2.2829750574821879, 'spec-6270-56273-0202.fits': 4.758888651905119, 'spec-7691-57360-0094.fits': 1.388886219480967, 'spec-7691-57040-0100.fits': 1.0508165679437143, 'spec-5697-55944-0990.fits': 0.998865915125282}"
   ]
  },
  {
   "cell_type": "code",
   "execution_count": 837,
   "metadata": {},
   "outputs": [
    {
     "data": {
      "text/plain": [
       "{'spec-10000-57346-0092.fits': 2.282975057482188,\n",
       " 'spec-5697-55944-0990.fits': 0.998865915125282,\n",
       " 'spec-6270-56273-0202.fits': 4.758888651905119,\n",
       " 'spec-7691-57040-0100.fits': 1.0508165679437143,\n",
       " 'spec-7691-57360-0094.fits': 1.388886219480967}"
      ]
     },
     "execution_count": 837,
     "output_type": "execute_result",
     "metadata": {}
    }
   ],
   "source": [
    "vect"
   ]
  },
  {
   "cell_type": "code",
   "execution_count": 840,
   "metadata": {},
   "outputs": [],
   "source": [
    "rm_file =[]\n",
    "for files, chisq in vect.iteritems():\n",
    "    if chisq > 4:\n",
    "        rm_file.append(files)"
   ]
  },
  {
   "cell_type": "code",
   "execution_count": 842,
   "metadata": {},
   "outputs": [],
   "source": [
    "for rm in rm_file:\n",
    "    del vect[rm]"
   ]
  },
  {
   "cell_type": "code",
   "execution_count": 850,
   "metadata": {},
   "outputs": [
    {
     "data": {
      "text/plain": [
       "{'spec-10000-57346-0092.fits': 2.282975057482188,\n",
       " 'spec-5697-55944-0990.fits': 0.998865915125282,\n",
       " 'spec-7691-57040-0100.fits': 1.0508165679437143,\n",
       " 'spec-7691-57360-0094.fits': 1.388886219480967}"
      ]
     },
     "execution_count": 850,
     "output_type": "execute_result",
     "metadata": {}
    }
   ],
   "source": [
    "vect"
   ]
  },
  {
   "cell_type": "code",
   "execution_count": 851,
   "metadata": {},
   "outputs": [],
   "source": [
    "t ='spec-10000-57346-0436.fits'"
   ]
  },
  {
   "cell_type": "code",
   "execution_count": 857,
   "metadata": {},
   "outputs": [
    {
     "data": {
      "text/plain": [
       "'10000-57346-0436.fits'"
      ]
     },
     "execution_count": 857,
     "output_type": "execute_result",
     "metadata": {}
    }
   ],
   "source": [
    "t.replace('spec-','')"
   ]
  },
  {
   "cell_type": "code",
   "execution_count": 858,
   "metadata": {},
   "outputs": [
    {
     "data": {
      "text/plain": [
       "'spec-10000-57346-0436.fits'"
      ]
     },
     "execution_count": 858,
     "output_type": "execute_result",
     "metadata": {}
    }
   ],
   "source": [
    "t"
   ]
  },
  {
   "cell_type": "code",
   "execution_count": null,
   "metadata": {},
   "outputs": [],
   "source": [
    "0093"
   ]
  },
  {
   "cell_type": "code",
   "execution_count": null,
   "metadata": {},
   "outputs": [],
   "source": [
    ""
   ]
  },
  {
   "cell_type": "code",
   "execution_count": null,
   "metadata": {},
   "outputs": [],
   "source": [
    ""
   ]
  },
  {
   "cell_type": "code",
   "execution_count": null,
   "metadata": {},
   "outputs": [],
   "source": [
    ""
   ]
  },
  {
   "cell_type": "code",
   "execution_count": null,
   "metadata": {},
   "outputs": [],
   "source": [
    ""
   ]
  },
  {
   "cell_type": "code",
   "execution_count": null,
   "metadata": {},
   "outputs": [],
   "source": [
    ""
   ]
  },
  {
   "cell_type": "code",
   "execution_count": 1,
   "metadata": {},
   "outputs": [],
   "source": [
    "import pandas as pd\n",
    "import matplotlib.pyplot as plt\n",
    "%matplotlib inline"
   ]
  },
  {
   "cell_type": "code",
   "execution_count": 2,
   "metadata": {},
   "outputs": [
    {
     "data": {
      "text/plain": [
       "<matplotlib.axes._subplots.AxesSubplot at 0x109def710>"
      ]
     },
     "execution_count": 2,
     "output_type": "execute_result",
     "metadata": {}
    },
    {
     "metadata": {}
    },
    {
     "data": {
      "image/png": "[encoded data removed]"
     },
     "output_type": "display_data",
     "metadata": {}
    }
   ],
   "source": [
    ""
   ]
  },
  {
   "cell_type": "code",
   "execution_count": null,
   "metadata": {},
   "outputs": [],
   "source": [
    ""
   ]
  },
  {
   "cell_type": "code",
   "execution_count": 3,
   "metadata": {},
   "outputs": [
    {
     "ename": "ImportError",
     "evalue": "dlopen(/Users/josevazquezgonzalez/Library/Python/2.7/lib/python/site-packages/mpi4py/MPI.so, 2): Library not loaded: /Users/paterno/new/mpich/v3_1_4/Darwin64bit+13-e7-prof/lib/libpmpi.12.dylib\n  Referenced from: /Users/josevazquezgonzalez/Library/Python/2.7/lib/python/site-packages/mpi4py/MPI.so\n  Reason: image not found",
     "output_type": "error",
     "traceback": [
      "\u001b[0;31m---------------------------------------------------------------------------\u001b[0m",
      "\u001b[0;31mImportError\u001b[0m                               Traceback (most recent call last)",
      "\u001b[0;32m<ipython-input-3-fc57324fa516>\u001b[0m in \u001b[0;36m<module>\u001b[0;34m()\u001b[0m\n\u001b[0;32m----> 1\u001b[0;31m \u001b[0;32mfrom\u001b[0m \u001b[0mmpi4py\u001b[0m \u001b[0;32mimport\u001b[0m \u001b[0mMPI\u001b[0m\u001b[0;34m\u001b[0m\u001b[0m\n\u001b[0m",
      "\u001b[0;31mImportError\u001b[0m: dlopen(/Users/josevazquezgonzalez/Library/Python/2.7/lib/python/site-packages/mpi4py/MPI.so, 2): Library not loaded: /Users/paterno/new/mpich/v3_1_4/Darwin64bit+13-e7-prof/lib/libpmpi.12.dylib\n  Referenced from: /Users/josevazquezgonzalez/Library/Python/2.7/lib/python/site-packages/mpi4py/MPI.so\n  Reason: image not found"
     ]
    }
   ],
   "source": [
    "from mpi4py import MPI"
   ]
  },
  {
   "cell_type": "code",
   "execution_count": null,
   "metadata": {},
   "outputs": [],
   "source": [
    ""
   ]
  }
 ],
 "metadata": {
  "anaconda-cloud": {},
  "kernelspec": {
   "display_name": "Python 2",
   "language": "python",
   "name": "python2"
  },
  "language_info": {
   "codemirror_mode": {
    "name": "ipython",
    "version": 2.0
   },
   "file_extension": ".py",
   "mimetype": "text/x-python",
   "name": "python",
   "nbconvert_exporter": "python",
   "pygments_lexer": "ipython2",
   "version": "2.7.6"
  }
 },
 "nbformat": 4,
 "nbformat_minor": 0
}