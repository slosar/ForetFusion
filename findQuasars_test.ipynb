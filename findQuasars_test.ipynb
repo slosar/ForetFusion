{
 "cells": [
  {
   "cell_type": "code",
   "execution_count": 607,
   "metadata": {
    "collapsed": false
   },
   "outputs": [],
   "source": [
    "import fitsio\n",
    "import os\n",
    "import numpy as np\n",
    "from astropy.io import fits "
   ]
  },
  {
   "cell_type": "code",
   "execution_count": 608,
   "metadata": {
    "collapsed": false
   },
   "outputs": [
    {
     "name": "stdout",
     "output_type": "stream",
     "text": [
      "BOSS_dr12_qso.fits               \u001b[1m\u001b[34mpy\u001b[m\u001b[m/\r\n",
      "README.md                        spAll-v5_10_0.fits\r\n",
      "findQuasars.ipynb                wmap_band_imap_r9_7yr_W_v4.fits\r\n"
     ]
    }
   ],
   "source": [
    "#data_dir ='/Users/josevazquezgonzalez/Desktop/ForetFusion/'\n",
    "#name = os.path.join(data_dir, 'spAll-v5_10_0.fits')\n",
    "%ls"
   ]
  },
  {
   "cell_type": "code",
   "execution_count": 609,
   "metadata": {
    "collapsed": true
   },
   "outputs": [],
   "source": [
    "#name = 'wmap_band_imap_r9_7yr_W_v4.fits'\n",
    "name = 'spAll-v5_10_0.fits'"
   ]
  },
  {
   "cell_type": "code",
   "execution_count": 613,
   "metadata": {
    "collapsed": false
   },
   "outputs": [
    {
     "name": "stdout",
     "output_type": "stream",
     "text": [
      "Filename: spAll-v5_10_0.fits\n",
      "No.    Name         Type      Cards   Dimensions   Format\n",
      "0    PRIMARY     PrimaryHDU       4   ()              \n",
      "1                BinTableHDU    496   3008000R x 236C   [27A, 14A, 4A, E, E, J, J, E, J, E, E, E, K, K, K, K, K, K, K, K, K, B, B, J, I, 5E, 5E, J, J, J, J, 7A, 7A, 16A, D, D, 6A, 21A, E, E, E, J, E, 24A, 10J, J, 10E, E, E, E, E, E, E, J, E, E, E, J, 5E, E, E, 10E, 10E, 10E, 5E, 5E, 5E, 5E, 5E, J, J, E, E, E, E, E, E, 16A, 9A, 12A, E, E, E, E, E, E, E, E, J, E, E, J, J, 6A, 21A, E, 35E, K, 19A, 19A, 19A, B, B, B, I, 3A, B, I, I, I, I, J, E, J, J, E, E, E, E, E, E, E, E, 5E, 5E, 5E, 5E, 5E, 5E, 5E, 5E, 5E, 5E, 5E, 5E, 5E, 5E, 5E, 5E, 5E, 5E, 5E, 5E, 5E, 5E, 5E, 5E, 5E, 5E, 5E, 5E, 5E, 5E, 5E, 5E, 5E, 5E, 5E, 5J, 5J, 5J, 5E, 5J, 75E, 75E, 5E, 5E, 5E, 5J, 5E, D, D, D, D, D, D, D, D, D, 5E, 5E, 5E, 5E, 5E, 5E, 5E, 5E, 5E, 5E, 5E, 5E, 5E, 5E, 5E, 5E, 5E, 5E, 5E, 5E, 5E, 5E, 5E, 5E, 5E, 5E, 5E, 5E, 5E, 5E, 5E, 5E, 5E, 5E, 5E, 5E, 5E, 5E, 5E, 5E, 5E, 5E, 40E, 40E, 5J, 5J, 5E, 5E, 5D, J, J, J, J, J, J, J, E]   \n"
     ]
    }
   ],
   "source": [
    "fi = fits.open(name)\n",
    "fi.info()"
   ]
  },
  {
   "cell_type": "code",
   "execution_count": 521,
   "metadata": {
    "collapsed": false
   },
   "outputs": [],
   "source": []
  },
  {
   "cell_type": "code",
   "execution_count": 500,
   "metadata": {
    "collapsed": false
   },
   "outputs": [],
   "source": []
  },
  {
   "cell_type": "code",
   "execution_count": 615,
   "metadata": {
    "collapsed": false
   },
   "outputs": [
    {
     "data": {
      "text/plain": [
       "\n",
       "  file: spAll-v5_10_0.fits\n",
       "  extension: 0\n",
       "  type: IMAGE_HDU\n",
       "  image info:\n",
       "    data type: u1\n",
       "    dims: []"
      ]
     },
     "execution_count": 615,
     "metadata": {},
     "output_type": "execute_result"
    }
   ],
   "source": [
    "fits=fitsio.FITS(name)\n",
    "fits[0]"
   ]
  },
  {
   "cell_type": "code",
   "execution_count": 616,
   "metadata": {
    "collapsed": false
   },
   "outputs": [
    {
     "data": {
      "text/plain": [
       "\n",
       "  file: spAll-v5_10_0.fits\n",
       "  extension: 1\n",
       "  type: BINARY_TBL\n",
       "  rows: 3008000\n",
       "  column info:\n",
       "    PROGRAMNAME        S27  \n",
       "    CHUNK              S14  \n",
       "    PLATEQUALITY        S4  \n",
       "    PLATESN2            f4  \n",
       "    DEREDSN2            f4  \n",
       "    PRIMTARGET          i4  \n",
       "    SECTARGET           i4  \n",
       "    LAMBDA_EFF          f4  \n",
       "    BLUEFIBER           i4  \n",
       "    ZOFFSET             f4  \n",
       "    XFOCAL              f4  \n",
       "    YFOCAL              f4  \n",
       "    BOSS_TARGET1        i8  \n",
       "    BOSS_TARGET2        i8  \n",
       "    ANCILLARY_TARGET1\n",
       "                        i8  \n",
       "    ANCILLARY_TARGET2\n",
       "                        i8  \n",
       "    EBOSS_TARGET0       i8  \n",
       "    EBOSS_TARGET1       i8  \n",
       "    EBOSS_TARGET2       i8  \n",
       "    EBOSS_TARGET_ID     i8  \n",
       "    THING_ID_TARGETING\n",
       "                        i8  \n",
       "    SPECPRIMARY         u1  \n",
       "    SPECBOSS            u1  \n",
       "    BOSS_SPECOBJ_ID     i4  \n",
       "    NSPECOBS            i2  \n",
       "    CALIBFLUX           f4  array[5]\n",
       "    CALIBFLUX_IVAR      f4  array[5]\n",
       "    PLATE               i4  \n",
       "    TILE                i4  \n",
       "    MJD                 i4  \n",
       "    FIBERID             i4  \n",
       "    RUN2D               S7  \n",
       "    RUN1D               S7  \n",
       "    OBJTYPE            S16  \n",
       "    PLUG_RA             f8  \n",
       "    PLUG_DEC            f8  \n",
       "    CLASS               S6  \n",
       "    SUBCLASS           S21  \n",
       "    Z                   f4  \n",
       "    Z_ERR               f4  \n",
       "    RCHI2               f4  \n",
       "    DOF                 i4  \n",
       "    RCHI2DIFF           f4  \n",
       "    TFILE              S24  \n",
       "    TCOLUMN             i4  array[10]\n",
       "    NPOLY               i4  \n",
       "    THETA               f4  array[10]\n",
       "    VDISP               f4  \n",
       "    VDISP_ERR           f4  \n",
       "    VDISPZ              f4  \n",
       "    VDISPZ_ERR          f4  \n",
       "    VDISPCHI2           f4  \n",
       "    VDISPNPIX           f4  \n",
       "    VDISPDOF            i4  \n",
       "    WAVEMIN             f4  \n",
       "    WAVEMAX             f4  \n",
       "    WCOVERAGE           f4  \n",
       "    ZWARNING            i4  \n",
       "    SN_MEDIAN           f4  array[5]\n",
       "    SN_MEDIAN_ALL       f4  \n",
       "    CHI68P              f4  \n",
       "    FRACNSIGMA          f4  array[10]\n",
       "    FRACNSIGHI          f4  array[10]\n",
       "    FRACNSIGLO          f4  array[10]\n",
       "    SPECTROFLUX         f4  array[5]\n",
       "    SPECTROFLUX_IVAR\n",
       "                        f4  array[5]\n",
       "    SPECTROSYNFLUX      f4  array[5]\n",
       "    SPECTROSYNFLUX_IVAR\n",
       "                        f4  array[5]\n",
       "    SPECTROSKYFLUX      f4  array[5]\n",
       "    ANYANDMASK          i4  \n",
       "    ANYORMASK           i4  \n",
       "    SPEC1_G             f4  \n",
       "    SPEC1_R             f4  \n",
       "    SPEC1_I             f4  \n",
       "    SPEC2_G             f4  \n",
       "    SPEC2_R             f4  \n",
       "    SPEC2_I             f4  \n",
       "    ELODIE_FILENAME    S16  \n",
       "    ELODIE_OBJECT       S9  \n",
       "    ELODIE_SPTYPE      S12  \n",
       "    ELODIE_BV           f4  \n",
       "    ELODIE_TEFF         f4  \n",
       "    ELODIE_LOGG         f4  \n",
       "    ELODIE_FEH          f4  \n",
       "    ELODIE_Z            f4  \n",
       "    ELODIE_Z_ERR        f4  \n",
       "    ELODIE_Z_MODELERR\n",
       "                        f4  \n",
       "    ELODIE_RCHI2        f4  \n",
       "    ELODIE_DOF          i4  \n",
       "    Z_NOQSO             f4  \n",
       "    Z_ERR_NOQSO         f4  \n",
       "    ZNUM_NOQSO          i4  \n",
       "    ZWARNING_NOQSO      i4  \n",
       "    CLASS_NOQSO         S6  \n",
       "    SUBCLASS_NOQSO     S21  \n",
       "    RCHI2DIFF_NOQSO     f4  \n",
       "    VDISP_LNL           f4  array[35]\n",
       "    SPECOBJID           i8  \n",
       "    OBJID              S19  \n",
       "    PARENTID           S19  \n",
       "    FIELDID            S19  \n",
       "    SKYVERSION          u1  \n",
       "    MODE                u1  \n",
       "    CLEAN               u1  \n",
       "    RUN                 i2  \n",
       "    RERUN               S3  \n",
       "    CAMCOL              u1  \n",
       "    FIELD               i2  \n",
       "    ID                  i2  \n",
       "    PARENT              i2  \n",
       "    NCHILD              i2  \n",
       "    OBJC_TYPE           i4  \n",
       "    OBJC_PROB_PSF       f4  \n",
       "    OBJC_FLAGS          i4  \n",
       "    OBJC_FLAGS2         i4  \n",
       "    OBJC_ROWC           f4  \n",
       "    OBJC_ROWCERR        f4  \n",
       "    OBJC_COLC           f4  \n",
       "    OBJC_COLCERR        f4  \n",
       "    ROWVDEG             f4  \n",
       "    ROWVDEGERR          f4  \n",
       "    COLVDEG             f4  \n",
       "    COLVDEGERR          f4  \n",
       "    ROWC                f4  array[5]\n",
       "    ROWCERR             f4  array[5]\n",
       "    COLC                f4  array[5]\n",
       "    COLCERR             f4  array[5]\n",
       "    PETROTHETA          f4  array[5]\n",
       "    PETROTHETAERR       f4  array[5]\n",
       "    PETROTH50           f4  array[5]\n",
       "    PETROTH50ERR        f4  array[5]\n",
       "    PETROTH90           f4  array[5]\n",
       "    PETROTH90ERR        f4  array[5]\n",
       "    Q                   f4  array[5]\n",
       "    QERR                f4  array[5]\n",
       "    U                   f4  array[5]\n",
       "    UERR                f4  array[5]\n",
       "    M_E1                f4  array[5]\n",
       "    M_E2                f4  array[5]\n",
       "    M_E1E1ERR           f4  array[5]\n",
       "    M_E1E2ERR           f4  array[5]\n",
       "    M_E2E2ERR           f4  array[5]\n",
       "    M_RR_CC             f4  array[5]\n",
       "    M_RR_CCERR          f4  array[5]\n",
       "    M_CR4               f4  array[5]\n",
       "    M_E1_PSF            f4  array[5]\n",
       "    M_E2_PSF            f4  array[5]\n",
       "    M_RR_CC_PSF         f4  array[5]\n",
       "    M_CR4_PSF           f4  array[5]\n",
       "    THETA_DEV           f4  array[5]\n",
       "    THETA_DEVERR        f4  array[5]\n",
       "    AB_DEV              f4  array[5]\n",
       "    AB_DEVERR           f4  array[5]\n",
       "    THETA_EXP           f4  array[5]\n",
       "    THETA_EXPERR        f4  array[5]\n",
       "    AB_EXP              f4  array[5]\n",
       "    AB_EXPERR           f4  array[5]\n",
       "    FRACDEV             f4  array[5]\n",
       "    FLAGS               i4  array[5]\n",
       "    FLAGS2              i4  array[5]\n",
       "    TYPE                i4  array[5]\n",
       "    PROB_PSF            f4  array[5]\n",
       "    NPROF               i4  array[5]\n",
       "    PROFMEAN_NMGY       f4  array[15,5]\n",
       "    PROFERR_NMGY        f4  array[15,5]\n",
       "    STAR_LNL            f4  array[5]\n",
       "    EXP_LNL             f4  array[5]\n",
       "    DEV_LNL             f4  array[5]\n",
       "    PSP_STATUS          i4  array[5]\n",
       "    PIXSCALE            f4  array[5]\n",
       "    RA                  f8  \n",
       "    DEC                 f8  \n",
       "    CX                  f8  \n",
       "    CY                  f8  \n",
       "    CZ                  f8  \n",
       "    RAERR               f8  \n",
       "    DECERR              f8  \n",
       "    L                   f8  \n",
       "    B                   f8  \n",
       "    OFFSETRA            f4  array[5]\n",
       "    OFFSETDEC           f4  array[5]\n",
       "    PSF_FWHM            f4  array[5]\n",
       "    AIRMASS             f4  array[5]\n",
       "    PHI_OFFSET          f4  array[5]\n",
       "    PHI_DEV_DEG         f4  array[5]\n",
       "    PHI_EXP_DEG         f4  array[5]\n",
       "    EXTINCTION          f4  array[5]\n",
       "    SKYFLUX             f4  array[5]\n",
       "    SKYFLUX_IVAR        f4  array[5]\n",
       "    PSFFLUX             f4  array[5]\n",
       "    PSFFLUX_IVAR        f4  array[5]\n",
       "    PSFMAG              f4  array[5]\n",
       "    PSFMAGERR           f4  array[5]\n",
       "    FIBERFLUX           f4  array[5]\n",
       "    FIBERFLUX_IVAR      f4  array[5]\n",
       "    FIBERMAG            f4  array[5]\n",
       "    FIBERMAGERR         f4  array[5]\n",
       "    FIBER2FLUX          f4  array[5]\n",
       "    FIBER2FLUX_IVAR     f4  array[5]\n",
       "    FIBER2MAG           f4  array[5]\n",
       "    FIBER2MAGERR        f4  array[5]\n",
       "    CMODELFLUX          f4  array[5]\n",
       "    CMODELFLUX_IVAR     f4  array[5]\n",
       "    CMODELMAG           f4  array[5]\n",
       "    CMODELMAGERR        f4  array[5]\n",
       "    MODELFLUX           f4  array[5]\n",
       "    MODELFLUX_IVAR      f4  array[5]\n",
       "    MODELMAG            f4  array[5]\n",
       "    MODELMAGERR         f4  array[5]\n",
       "    PETROFLUX           f4  array[5]\n",
       "    PETROFLUX_IVAR      f4  array[5]\n",
       "    PETROMAG            f4  array[5]\n",
       "    PETROMAGERR         f4  array[5]\n",
       "    DEVFLUX             f4  array[5]\n",
       "    DEVFLUX_IVAR        f4  array[5]\n",
       "    DEVMAG              f4  array[5]\n",
       "    DEVMAGERR           f4  array[5]\n",
       "    EXPFLUX             f4  array[5]\n",
       "    EXPFLUX_IVAR        f4  array[5]\n",
       "    EXPMAG              f4  array[5]\n",
       "    EXPMAGERR           f4  array[5]\n",
       "    APERFLUX            f4  array[8,5]\n",
       "    APERFLUX_IVAR       f4  array[8,5]\n",
       "    CLOUDCAM            i4  array[5]\n",
       "    CALIB_STATUS        i4  array[5]\n",
       "    NMGYPERCOUNT        f4  array[5]\n",
       "    NMGYPERCOUNT_IVAR\n",
       "                        f4  array[5]\n",
       "    TAI                 f8  array[5]\n",
       "    RESOLVE_STATUS      i4  \n",
       "    THING_ID            i4  \n",
       "    IFIELD              i4  \n",
       "    BALKAN_ID           i4  \n",
       "    NOBSERVE            i4  \n",
       "    NDETECT             i4  \n",
       "    NEDGE               i4  \n",
       "    SCORE               f4  "
      ]
     },
     "execution_count": 616,
     "metadata": {},
     "output_type": "execute_result"
    }
   ],
   "source": [
    "fits[1]"
   ]
  },
  {
   "cell_type": "code",
   "execution_count": 455,
   "metadata": {
    "collapsed": false
   },
   "outputs": [
    {
     "data": {
      "text/plain": [
       "  file: spAll-v5_10_0.fits\n",
       "  extension: 1\n",
       "  type: BINARY_TBL\n",
       "  rows: 3008000\n",
       "  column subset:\n",
       "    BOSS_TARGET1        i8  "
      ]
     },
     "execution_count": 455,
     "metadata": {},
     "output_type": "execute_result"
    }
   ],
   "source": [
    "fits[1]['BOSS_TARGET1']"
   ]
  },
  {
   "cell_type": "code",
   "execution_count": null,
   "metadata": {
    "collapsed": false
   },
   "outputs": [],
   "source": []
  },
  {
   "cell_type": "code",
   "execution_count": 207,
   "metadata": {
    "collapsed": false
   },
   "outputs": [
    {
     "data": {
      "text/plain": [
       "  file: spAll-v5_10_0.fits\n",
       "  extension: 1\n",
       "  type: BINARY_TBL\n",
       "  rows: 3008000\n",
       "  column subset:\n",
       "    THING_ID            i4  "
      ]
     },
     "execution_count": 207,
     "metadata": {},
     "output_type": "execute_result"
    }
   ],
   "source": [
    "flags=fits[1]['THING_ID']\n",
    "flags"
   ]
  },
  {
   "cell_type": "code",
   "execution_count": 208,
   "metadata": {
    "collapsed": false
   },
   "outputs": [],
   "source": [
    "data = fits[1]['BOSS_TARGET1'].read()"
   ]
  },
  {
   "cell_type": "code",
   "execution_count": 209,
   "metadata": {
    "collapsed": false
   },
   "outputs": [
    {
     "data": {
      "text/plain": [
       "array([      0,       0,       0,       0,       0,       0,       0,\n",
       "             0,       0,       0,       0,       0,       0,       0,\n",
       "             0,       0,       0,       0,       0,       0,       0,\n",
       "             0,       0,       0,       0,       0,       0,       0,\n",
       "             0,       0,       0,       0,       0,       0,       0,\n",
       "             0,       0,       0,       0,       0,       0,       0,\n",
       "             0,       0,       0,       0,       0,       0,       0,\n",
       "             0,       0,       0,       0,       0,       0,       0,\n",
       "             0,       0,       0,       0,       0,       0,       0,\n",
       "             0,       0,       0,       0,       0,       0,       0,\n",
       "             0,       0,       0,       0,       0,       0,       0,\n",
       "             0,       0,       0,       0,       0,       0,       0,\n",
       "             0,       0,       0,       0,       0,       0,       0,\n",
       "             0,       0,       0,       0,       0,       0,       0,\n",
       "             0,       0,      14,       6,       6, 1048576,      14,\n",
       "            14,      14,      14,      14,      14,      14,       0,\n",
       "             6,       0,      14,  214016,       6,    1024,      14,\n",
       "        197632,      14,       1,      14,       9,       6,       0,\n",
       "             6,       1,       6,      14,       6,    1024,      14,\n",
       "            14,       9,   67584,       6,  118784,       6,    1024,\n",
       "            14,      14,      14,   65536,       9,       0,       6,\n",
       "             0,       6,  131072,      14,  219136,      14,  196608,\n",
       "             9,  135168,      14,   65536,      41,   65536,      14,\n",
       "            14,       6,      14,       6,      14,      14,      14,\n",
       "            14,       6,       6,  131072,      14,       0,       9,\n",
       "        214016,      33,   65536,      14,  219136,      14,       9,\n",
       "             6,      14,      14,      14,       6,   82944,      14,\n",
       "        131072,       6,       0,      14,   67584,      14,  197632,\n",
       "             6,  196608,       6,       0])"
      ]
     },
     "execution_count": 209,
     "metadata": {},
     "output_type": "execute_result"
    }
   ],
   "source": [
    "data[900:1100] #| \n"
   ]
  },
  {
   "cell_type": "code",
   "execution_count": 210,
   "metadata": {
    "collapsed": false
   },
   "outputs": [
    {
     "data": {
      "text/plain": [
       "array([   0,    0,    0,    0,    0,    0,    0,    0,    0,    0,    0,\n",
       "          0,    0,    0,    0, 1024,    0, 1024,    0, 1024,    0,    0,\n",
       "          0,    0,    0,    0,    0,    0,    0,    0,    0, 1024,    0,\n",
       "          0,    0,    0,    0,    0,    0, 1024,    0,    0,    0,    0,\n",
       "          0,    0,    0,    0,    0,    0,    0,    0,    0,    0,    0,\n",
       "          0,    0,    0,    0,    0,    0,    0,    0,    0,    0,    0,\n",
       "          0,    0,    0,    0,    0,    0,    0,    0,    0, 1024,    0,\n",
       "          0,    0,    0,    0,    0,    0,    0,    0,    0,    0, 1024,\n",
       "          0,    0,    0,    0,    0,    0,    0, 1024,    0,    0,    0,\n",
       "          0])"
      ]
     },
     "execution_count": 210,
     "metadata": {},
     "output_type": "execute_result"
    }
   ],
   "source": [
    "(data[1000:1100] & 2**10)"
   ]
  },
  {
   "cell_type": "code",
   "execution_count": 211,
   "metadata": {
    "collapsed": false
   },
   "outputs": [
    {
     "data": {
      "text/plain": [
       "('0b101', '0b110', '0b111')"
      ]
     },
     "execution_count": 211,
     "metadata": {},
     "output_type": "execute_result"
    }
   ],
   "source": [
    "bin(5), bin(6), bin(7)"
   ]
  },
  {
   "cell_type": "code",
   "execution_count": 214,
   "metadata": {
    "collapsed": false
   },
   "outputs": [
    {
     "data": {
      "text/plain": [
       "  file: spAll-v5_10_0.fits\n",
       "  extension: 1\n",
       "  type: BINARY_TBL\n",
       "  rows: 3008000\n",
       "  column subset:\n",
       "    THING_ID            i4  "
      ]
     },
     "execution_count": 214,
     "metadata": {},
     "output_type": "execute_result"
    }
   ],
   "source": []
  },
  {
   "cell_type": "code",
   "execution_count": 436,
   "metadata": {
    "collapsed": false
   },
   "outputs": [],
   "source": [
    "bt1=[10,11,12,13,14,15,16,17,18,19,40,41,42,43,44]\n",
    "w_qso = w_qso2 = np.zeros(len(data),dtype=bool)"
   ]
  },
  {
   "cell_type": "code",
   "execution_count": 463,
   "metadata": {
    "collapsed": false
   },
   "outputs": [
    {
     "name": "stdout",
     "output_type": "stream",
     "text": [
      "Found  466098 BOSS objects.\n",
      "Found  466098 BOSS objects.\n",
      "Found  466098 BOSS objects.\n",
      "Found  466098 BOSS objects.\n",
      "1 loop, best of 3: 194 ms per loop\n"
     ]
    }
   ],
   "source": [
    "%%timeit\n",
    "w_qso = w_qso2 = np.zeros(len(data),dtype=bool)\n",
    "for b in bt1:\n",
    "    w_qso = w_qso | ((data & 2**b) > 0)\n",
    "print \"Found \",w_qso.sum(), \"BOSS objects.\""
   ]
  },
  {
   "cell_type": "code",
   "execution_count": null,
   "metadata": {
    "collapsed": false
   },
   "outputs": [],
   "source": []
  },
  {
   "cell_type": "code",
   "execution_count": null,
   "metadata": {
    "collapsed": false
   },
   "outputs": [],
   "source": []
  },
  {
   "cell_type": "code",
   "execution_count": 438,
   "metadata": {
    "collapsed": false
   },
   "outputs": [
    {
     "name": "stdout",
     "output_type": "stream",
     "text": [
      "CPU times: user 174 ms, sys: 87.2 ms, total: 261 ms\n",
      "Wall time: 260 ms\n"
     ]
    }
   ],
   "source": [
    "%%time\n",
    "s1 =np.vstack([w_qso2, map(lambda b: ((data & 2**b) > 0), bt1)])"
   ]
  },
  {
   "cell_type": "code",
   "execution_count": 439,
   "metadata": {
    "collapsed": false
   },
   "outputs": [
    {
     "name": "stdout",
     "output_type": "stream",
     "text": [
      "CPU times: user 4 µs, sys: 1e+03 ns, total: 5 µs\n",
      "Wall time: 9.06 µs\n"
     ]
    }
   ],
   "source": [
    "%%time\n",
    "f = lambda x, y: x |  y"
   ]
  },
  {
   "cell_type": "code",
   "execution_count": 467,
   "metadata": {
    "collapsed": false
   },
   "outputs": [
    {
     "name": "stdout",
     "output_type": "stream",
     "text": [
      "466098\n",
      "466098\n",
      "466098\n",
      "466098\n",
      "1 loop, best of 3: 206 ms per loop\n"
     ]
    }
   ],
   "source": [
    "%%timeit\n",
    "s1 = map(lambda b: ((data & 2**b) > 0),  bt1)\n",
    "a = reduce(lambda x, y: x |  y , s1)\n",
    "print a.sum()"
   ]
  },
  {
   "cell_type": "code",
   "execution_count": 458,
   "metadata": {
    "collapsed": false
   },
   "outputs": [
    {
     "data": {
      "text/plain": [
       "425253"
      ]
     },
     "execution_count": 458,
     "metadata": {},
     "output_type": "execute_result"
    }
   ],
   "source": [
    "len(frozenset(data2[a]))"
   ]
  },
  {
   "cell_type": "code",
   "execution_count": 388,
   "metadata": {
    "collapsed": false
   },
   "outputs": [],
   "source": []
  },
  {
   "cell_type": "code",
   "execution_count": 389,
   "metadata": {
    "collapsed": false
   },
   "outputs": [
    {
     "data": {
      "text/plain": [
       "466098"
      ]
     },
     "execution_count": 389,
     "metadata": {},
     "output_type": "execute_result"
    }
   ],
   "source": []
  },
  {
   "cell_type": "code",
   "execution_count": 260,
   "metadata": {
    "collapsed": false
   },
   "outputs": [
    {
     "data": {
      "text/plain": [
       "[array([False, False, False, ..., False, False, False], dtype=bool),\n",
       " array([False, False, False, ..., False, False, False], dtype=bool),\n",
       " array([False, False, False, ..., False, False, False], dtype=bool),\n",
       " array([False, False, False, ..., False, False, False], dtype=bool),\n",
       " array([False, False, False, ..., False, False, False], dtype=bool),\n",
       " array([False, False, False, ..., False, False, False], dtype=bool),\n",
       " array([False, False, False, ..., False, False, False], dtype=bool),\n",
       " array([False, False, False, ..., False, False, False], dtype=bool),\n",
       " array([False, False, False, ..., False, False, False], dtype=bool),\n",
       " array([False, False, False, ..., False, False, False], dtype=bool),\n",
       " array([False, False, False, ..., False, False, False], dtype=bool),\n",
       " array([False, False, False, ..., False, False, False], dtype=bool),\n",
       " array([False, False, False, ..., False, False, False], dtype=bool),\n",
       " array([False, False, False, ..., False, False, False], dtype=bool),\n",
       " array([False, False, False, ..., False, False, False], dtype=bool),\n",
       " array([False, False, False, ..., False, False, False], dtype=bool)]"
      ]
     },
     "execution_count": 260,
     "metadata": {},
     "output_type": "execute_result"
    }
   ],
   "source": [
    "s.append(w_qso)\n",
    "s"
   ]
  },
  {
   "cell_type": "code",
   "execution_count": 252,
   "metadata": {
    "collapsed": false
   },
   "outputs": [
    {
     "data": {
      "text/plain": [
       "3008000"
      ]
     },
     "execution_count": 252,
     "metadata": {},
     "output_type": "execute_result"
    }
   ],
   "source": [
    "len(reduce(f, s))"
   ]
  },
  {
   "cell_type": "code",
   "execution_count": 145,
   "metadata": {
    "collapsed": false
   },
   "outputs": [
    {
     "data": {
      "text/plain": [
       "array([False, False, False, False, False, False, False, False, False,\n",
       "       False, False, False, False, False, False,  True, False,  True,\n",
       "       False,  True, False, False, False, False, False, False, False,\n",
       "       False, False, False, False,  True, False, False, False,  True,\n",
       "       False,  True, False,  True, False, False, False,  True, False,\n",
       "       False, False, False, False,  True, False,  True, False,  True,\n",
       "       False,  True, False,  True, False,  True, False, False, False,\n",
       "       False, False, False, False, False, False, False, False,  True,\n",
       "       False, False, False,  True, False,  True, False,  True, False,\n",
       "       False, False, False, False, False, False,  True, False,  True,\n",
       "       False, False, False,  True, False,  True, False,  True, False, False], dtype=bool)"
      ]
     },
     "execution_count": 145,
     "metadata": {},
     "output_type": "execute_result"
    }
   ],
   "source": [
    "w_qso[1000:1100]\n",
    "#flags[w_qso][:100]"
   ]
  },
  {
   "cell_type": "code",
   "execution_count": 167,
   "metadata": {
    "collapsed": true
   },
   "outputs": [],
   "source": [
    "data2 = fits[1]['THING_ID'].read()"
   ]
  },
  {
   "cell_type": "code",
   "execution_count": 683,
   "metadata": {
    "collapsed": false
   },
   "outputs": [
    {
     "data": {
      "text/plain": [
       "(2443161, 3008000)"
      ]
     },
     "execution_count": 683,
     "metadata": {},
     "output_type": "execute_result"
    }
   ],
   "source": [
    "len(frozenset(data2)), len(data2)"
   ]
  },
  {
   "cell_type": "code",
   "execution_count": 171,
   "metadata": {
    "collapsed": false
   },
   "outputs": [
    {
     "data": {
      "text/plain": [
       "425253"
      ]
     },
     "execution_count": 171,
     "metadata": {},
     "output_type": "execute_result"
    }
   ],
   "source": [
    "len(frozenset(data2[w_qso]))"
   ]
  },
  {
   "cell_type": "code",
   "execution_count": 159,
   "metadata": {
    "collapsed": false
   },
   "outputs": [
    {
     "data": {
      "text/plain": [
       "array([     14,       6,       6, 1048576,      14])"
      ]
     },
     "execution_count": 159,
     "metadata": {},
     "output_type": "execute_result"
    }
   ],
   "source": [
    "tt = flags[1000:1005]\n",
    "tt"
   ]
  },
  {
   "cell_type": "code",
   "execution_count": 165,
   "metadata": {
    "collapsed": false
   },
   "outputs": [],
   "source": [
    "aa = np.array([True, True, False, True, True])"
   ]
  },
  {
   "cell_type": "code",
   "execution_count": 164,
   "metadata": {
    "collapsed": false
   },
   "outputs": [
    {
     "data": {
      "text/plain": [
       "array([14,  6,  6, 14])"
      ]
     },
     "execution_count": 164,
     "metadata": {},
     "output_type": "execute_result"
    }
   ],
   "source": [
    "tt[aa]"
   ]
  },
  {
   "cell_type": "code",
   "execution_count": 79,
   "metadata": {
    "collapsed": false
   },
   "outputs": [
    {
     "data": {
      "text/plain": [
       "array([      0,       0,       0,       0,       0,       0,       0,\n",
       "             0,       0,       0,       0,       0,       0,       0,\n",
       "             0,       0,       0,       0,       0,       0,       0,\n",
       "             0,       0,       0,       0,       0,       0,       0,\n",
       "             0,       0,       0,       0,       0,       0,       0,\n",
       "             0,       0,       0,       0,       0,       0,       0,\n",
       "             0,       0,       0,       0,       0,       0,       0,\n",
       "             0,       0,       0,       0,       0,       0,       0,\n",
       "             0,       0,       0,       0,       0,       0,       0,\n",
       "             0,       0,       0,       0,       0,       0,       0,\n",
       "             0,       0,       0,       0,       0,       0,       0,\n",
       "             0,       0,       0,       0,       0,       0,       0,\n",
       "             0,       0,       0,       0,       0,       0,       0,\n",
       "             0,       0,       0,       0,       0,       0,       0,\n",
       "             0,       0,      14,       6,       6, 1048576,      14,\n",
       "            14,      14,      14,      14,      14,      14,       0,\n",
       "             6,       0,      14,  214016,       6,    1024,      14,\n",
       "        197632,      14,       1,      14,       9,       6,       0,\n",
       "             6,       1,       6,      14,       6,    1024,      14,\n",
       "            14,       9,   67584,       6,  118784,       6,    1024,\n",
       "            14,      14,      14,   65536,       9,       0,       6,\n",
       "             0,       6,  131072,      14,  219136,      14,  196608,\n",
       "             9,  135168,      14,   65536,      41,   65536,      14,\n",
       "            14,       6,      14,       6,      14,      14,      14,\n",
       "            14,       6,       6,  131072,      14,       0,       9,\n",
       "        214016,      33,   65536,      14,  219136,      14,       9,\n",
       "             6,      14,      14,      14,       6,   82944,      14,\n",
       "        131072,       6,       0,      14,   67584,      14,  197632,\n",
       "             6,  196608,       6,       0])"
      ]
     },
     "execution_count": 79,
     "metadata": {},
     "output_type": "execute_result"
    }
   ],
   "source": [
    "data[900:1100] | (data[900:1100]& 2**11)"
   ]
  },
  {
   "cell_type": "code",
   "execution_count": 20,
   "metadata": {
    "collapsed": true
   },
   "outputs": [],
   "source": [
    "flags=fits[1]['eboss_target0'][:]"
   ]
  },
  {
   "cell_type": "code",
   "execution_count": null,
   "metadata": {
    "collapsed": true
   },
   "outputs": [],
   "source": []
  },
  {
   "cell_type": "code",
   "execution_count": null,
   "metadata": {
    "collapsed": false
   },
   "outputs": [],
   "source": [
    "test = fits[1]['DEC', 'RA'][:]"
   ]
  },
  {
   "cell_type": "code",
   "execution_count": null,
   "metadata": {
    "collapsed": false
   },
   "outputs": [],
   "source": []
  },
  {
   "cell_type": "code",
   "execution_count": 585,
   "metadata": {
    "collapsed": false
   },
   "outputs": [
    {
     "data": {
      "text/plain": [
       "array([(30.012093921268615, 26.188041852599188),\n",
       "       (31.282286421564493, 26.582944843689592),\n",
       "       (31.279594220270667, 26.60850125016288), ..., (159.56367, 25.34517),\n",
       "       (159.47798815069496, 25.18645445918835),\n",
       "       (159.4685027471723, 25.22865438118075)], \n",
       "      dtype=[('RA', '>f8'), ('DEC', '>f8')])"
      ]
     },
     "execution_count": 585,
     "metadata": {},
     "output_type": "execute_result"
    }
   ],
   "source": [
    "test"
   ]
  },
  {
   "cell_type": "code",
   "execution_count": 603,
   "metadata": {
    "collapsed": false
   },
   "outputs": [],
   "source": [
    "phi_rad   = test['RA']*np.pi/180. \n",
    "theta_rad = (90.0-test['DEC'])*np.pi/180."
   ]
  },
  {
   "cell_type": "code",
   "execution_count": 629,
   "metadata": {
    "collapsed": false
   },
   "outputs": [],
   "source": [
    "import numpy as np\n",
    "import healpy as hp"
   ]
  },
  {
   "cell_type": "code",
   "execution_count": 630,
   "metadata": {
    "collapsed": true
   },
   "outputs": [],
   "source": [
    "%matplotlib inline"
   ]
  },
  {
   "cell_type": "code",
   "execution_count": 653,
   "metadata": {
    "collapsed": false
   },
   "outputs": [
    {
     "data": {
      "image/png": "[encoded data removed]",
      "text/plain": [
       "<matplotlib.figure.Figure at 0x16100ec90>"
      ]
     },
     "metadata": {},
     "output_type": "display_data"
    }
   ],
   "source": [
    "\n",
    "NSIDE = 2**2\n",
    "m = np.arange(hp.nside2npix(NSIDE))\n",
    "hp.mollview(m, title=\"Mollview image RING\")"
   ]
  },
  {
   "cell_type": "code",
   "execution_count": 679,
   "metadata": {
    "collapsed": false
   },
   "outputs": [
    {
     "data": {
      "text/plain": [
       "3369"
      ]
     },
     "execution_count": 679,
     "metadata": {},
     "output_type": "execute_result"
    }
   ],
   "source": [
    "len(frozenset(hp.ang2pix(2**5, theta_rad, phi_rad)))"
   ]
  },
  {
   "cell_type": "code",
   "execution_count": 708,
   "metadata": {
    "collapsed": false
   },
   "outputs": [
    {
     "data": {
      "text/plain": [
       "array([3304, 8660, 3304])"
      ]
     },
     "execution_count": 708,
     "metadata": {},
     "output_type": "execute_result"
    }
   ],
   "source": [
    "hp.ang2pix(2**5, [1.1,2, 1.098], [2,1, 2])"
   ]
  },
  {
   "cell_type": "code",
   "execution_count": null,
   "metadata": {
    "collapsed": true
   },
   "outputs": [],
   "source": []
  },
  {
   "cell_type": "code",
   "execution_count": null,
   "metadata": {
    "collapsed": false
   },
   "outputs": [],
   "source": []
  },
  {
   "cell_type": "code",
   "execution_count": null,
   "metadata": {
    "collapsed": true
   },
   "outputs": [],
   "source": []
  },
  {
   "cell_type": "code",
   "execution_count": null,
   "metadata": {
    "collapsed": true
   },
   "outputs": [],
   "source": []
  },
  {
   "cell_type": "code",
   "execution_count": null,
   "metadata": {
    "collapsed": true
   },
   "outputs": [],
   "source": []
  },
  {
   "cell_type": "code",
   "execution_count": null,
   "metadata": {
    "collapsed": true
   },
   "outputs": [],
   "source": []
  },
  {
   "cell_type": "code",
   "execution_count": 21,
   "metadata": {
    "collapsed": false
   },
   "outputs": [
    {
     "data": {
      "text/plain": [
       "3008000"
      ]
     },
     "execution_count": 21,
     "metadata": {},
     "output_type": "execute_result"
    }
   ],
   "source": [
    "flags.size"
   ]
  },
  {
   "cell_type": "code",
   "execution_count": 23,
   "metadata": {
    "collapsed": true
   },
   "outputs": [],
   "source": [
    "flag = 2**10"
   ]
  },
  {
   "cell_type": "code",
   "execution_count": 24,
   "metadata": {
    "collapsed": true
   },
   "outputs": [],
   "source": [
    "w,=np.where( (flags & flag) != 0)"
   ]
  },
  {
   "cell_type": "code",
   "execution_count": 25,
   "metadata": {
    "collapsed": false
   },
   "outputs": [
    {
     "data": {
      "text/plain": [
       "33928"
      ]
     },
     "execution_count": 25,
     "metadata": {},
     "output_type": "execute_result"
    }
   ],
   "source": [
    "w.size"
   ]
  },
  {
   "cell_type": "code",
   "execution_count": 30,
   "metadata": {
    "collapsed": true
   },
   "outputs": [],
   "source": [
    "columns=['fiberid','petromag']"
   ]
  },
  {
   "cell_type": "code",
   "execution_count": 31,
   "metadata": {
    "collapsed": false
   },
   "outputs": [],
   "source": [
    "data = fits[1].read(columns=columns, rows=w)"
   ]
  },
  {
   "cell_type": "code",
   "execution_count": 32,
   "metadata": {
    "collapsed": true
   },
   "outputs": [],
   "source": [
    "ebt1=[10,11,12,13,14,15,16,17,18]\n"
   ]
  },
  {
   "cell_type": "code",
   "execution_count": 33,
   "metadata": {
    "collapsed": false
   },
   "outputs": [
    {
     "data": {
      "text/plain": [
       "[10, 11, 12, 13, 14, 15, 16, 17, 18]"
      ]
     },
     "execution_count": 33,
     "metadata": {},
     "output_type": "execute_result"
    }
   ],
   "source": [
    "    flags2check"
   ]
  },
  {
   "cell_type": "code",
   "execution_count": null,
   "metadata": {
    "collapsed": true
   },
   "outputs": [],
   "source": []
  }
 ],
 "metadata": {
  "kernelspec": {
   "display_name": "Python 2",
   "language": "python",
   "name": "python2"
  },
  "language_info": {
   "codemirror_mode": {
    "name": "ipython",
    "version": 2
   },
   "file_extension": ".py",
   "mimetype": "text/x-python",
   "name": "python",
   "nbconvert_exporter": "python",
   "pygments_lexer": "ipython2",
   "version": "2.7.11"
  }
 },
 "nbformat": 4,
 "nbformat_minor": 0
}
