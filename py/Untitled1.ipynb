{
 "cells": [
  {
   "cell_type": "code",
   "execution_count": 41,
   "metadata": {
    "collapsed": true
   },
   "outputs": [],
   "source": [
    "import numpy as np\n",
    "#from astropy.io import fits \n",
    "from fits2hdf import pyhdfits as fits\n",
    "from fits2hdf.io.hdfio import read_hdf\n",
    "data_dir = \"/Users/josevazquezgonzalez/Desktop/ForetFusion/py/\""
   ]
  },
  {
   "cell_type": "code",
   "execution_count": 42,
   "metadata": {
    "collapsed": false
   },
   "outputs": [
    {
     "name": "stdout",
     "output_type": "stream",
     "text": [
      "100000 loops, best of 3: 7.17 µs per loop\n",
      "The slowest run took 5474.81 times longer than the fastest. This could mean that an intermediate result is being cached.\n",
      "1000000 loops, best of 3: 1.85 µs per loop\n"
     ]
    }
   ],
   "source": [
    "fi = read_hdf(data_dir + 'spaAll.hdf/spec-3586-55181-0984.h5')\n",
    "fi2= fits.open(data_dir + 'fits_dir/spec-3586-55181-0984.fits', memmap=True)\n",
    "#fi= fits.open(data_dir + 'spaAll.hdf/spec-3586-55181-0984.h5')\n",
    "#fi = read_hdf(data_dir + 'spaAll.hdf/spec-3586-55181-0984.h5')\n",
    "#fi= fits.open(data_dir + 'spAll-v5_10_0.fits', memmap=True)\n",
    "#fi.info()\n",
    "#print \"Loading file ... \"\n",
    "%timeit da = fi[1].data\n",
    "%timeit da = fi2[1].data\n",
    "#print \"Done!\""
   ]
  },
  {
   "cell_type": "code",
   "execution_count": 10,
   "metadata": {
    "collapsed": false
   },
   "outputs": [
    {
     "data": {
      "text/plain": [
       "FITS_rec([ (-3.2651124, 3.5534, 0.034736127, 0, 0, 1.8071247, 6.319778, -0.017035805),\n",
       "       (0.11808137, 3.5534999, 0.038013957, 0, 0, 1.807008, 6.1255565, -0.022019269),\n",
       "       (0.60779589, 3.5536001, 0.038091373, 0, 0, 1.8068924, 6.014771, -0.026257308),\n",
       "       ...,\n",
       "       (1.9480811, 4.0144, 0.099578865, 0, 0, 0.74821293, 5.2031007, 1.8105091),\n",
       "       (1.3050163, 4.0145001, 0.082848042, 0, 0, 0.74826914, 13.715582, 1.8074491),\n",
       "       (0.23659381, 4.0145998, 0.067777634, 0, 0, 0.74832183, 14.658263, 1.8078159)], \n",
       "      dtype=(numpy.record, [('flux', '<f4'), ('loglam', '<f4'), ('ivar', '<f4'), ('and_mask', '<i4'), ('or_mask', '<i4'), ('wdisp', '<f4'), ('sky', '<f4'), ('model', '<f4')]))"
      ]
     },
     "execution_count": 10,
     "metadata": {},
     "output_type": "execute_result"
    }
   ],
   "source": [
    "da = fi[1].data\n",
    "da"
   ]
  },
  {
   "cell_type": "code",
   "execution_count": 11,
   "metadata": {
    "collapsed": false
   },
   "outputs": [
    {
     "data": {
      "text/plain": [
       "XTENSION= 'BINTABLE'           / binary table extension                         \n",
       "BITPIX  =                    8 / array data type                                \n",
       "NAXIS   =                    2 / number of array dimensions                     \n",
       "NAXIS1  =                   32 / length of dimension 1                          \n",
       "NAXIS2  =                 4613 / length of dimension 2                          \n",
       "PCOUNT  =                    0 / number of group parameters                     \n",
       "GCOUNT  =                    1 / number of groups                               \n",
       "TFIELDS =                    8 / number of table fields                         \n",
       "TTYPE1  = 'flux    '                                                            \n",
       "TFORM1  = 'E       '                                                            \n",
       "TTYPE2  = 'loglam  '                                                            \n",
       "TFORM2  = 'E       '                                                            \n",
       "TTYPE3  = 'ivar    '                                                            \n",
       "TFORM3  = 'E       '                                                            \n",
       "TTYPE4  = 'and_mask'                                                            \n",
       "TFORM4  = 'J       '                                                            \n",
       "TTYPE5  = 'or_mask '                                                            \n",
       "TFORM5  = 'J       '                                                            \n",
       "TTYPE6  = 'wdisp   '                                                            \n",
       "TFORM6  = 'E       '                                                            \n",
       "TTYPE7  = 'sky     '                                                            \n",
       "TFORM7  = 'E       '                                                            \n",
       "TTYPE8  = 'model   '                                                            \n",
       "TFORM8  = 'E       '                                                            \n",
       "EXTNAME = 'COADD   '           / extension name                                 \n",
       "HISTORY Coadded spectrum                                                        "
      ]
     },
     "execution_count": 11,
     "metadata": {},
     "output_type": "execute_result"
    }
   ],
   "source": [
    "fi[1].header"
   ]
  },
  {
   "cell_type": "code",
   "execution_count": 12,
   "metadata": {
    "collapsed": false
   },
   "outputs": [
    {
     "data": {
      "text/plain": [
       "['PROGRAMNAME',\n",
       " 'CHUNK',\n",
       " 'PLATEQUALITY',\n",
       " 'PLATESN2',\n",
       " 'DEREDSN2',\n",
       " 'PRIMTARGET',\n",
       " 'SECTARGET',\n",
       " 'LAMBDA_EFF',\n",
       " 'BLUEFIBER',\n",
       " 'ZOFFSET',\n",
       " 'XFOCAL',\n",
       " 'YFOCAL',\n",
       " 'BOSS_TARGET1',\n",
       " 'BOSS_TARGET2',\n",
       " 'ANCILLARY_TARGET1',\n",
       " 'ANCILLARY_TARGET2',\n",
       " 'EBOSS_TARGET0',\n",
       " 'EBOSS_TARGET1',\n",
       " 'EBOSS_TARGET2',\n",
       " 'EBOSS_TARGET_ID',\n",
       " 'THING_ID_TARGETING',\n",
       " 'SPECPRIMARY',\n",
       " 'SPECBOSS',\n",
       " 'BOSS_SPECOBJ_ID',\n",
       " 'NSPECOBS',\n",
       " 'CALIBFLUX',\n",
       " 'CALIBFLUX_IVAR',\n",
       " 'PLATE',\n",
       " 'TILE',\n",
       " 'MJD',\n",
       " 'FIBERID',\n",
       " 'RUN2D',\n",
       " 'RUN1D',\n",
       " 'OBJTYPE',\n",
       " 'PLUG_RA',\n",
       " 'PLUG_DEC',\n",
       " 'CLASS',\n",
       " 'SUBCLASS',\n",
       " 'Z',\n",
       " 'Z_ERR',\n",
       " 'RCHI2',\n",
       " 'DOF',\n",
       " 'RCHI2DIFF',\n",
       " 'TFILE',\n",
       " 'TCOLUMN',\n",
       " 'NPOLY',\n",
       " 'THETA',\n",
       " 'VDISP',\n",
       " 'VDISP_ERR',\n",
       " 'VDISPZ',\n",
       " 'VDISPZ_ERR',\n",
       " 'VDISPCHI2',\n",
       " 'VDISPNPIX',\n",
       " 'VDISPDOF',\n",
       " 'WAVEMIN',\n",
       " 'WAVEMAX',\n",
       " 'WCOVERAGE',\n",
       " 'ZWARNING',\n",
       " 'SN_MEDIAN',\n",
       " 'SN_MEDIAN_ALL',\n",
       " 'CHI68P',\n",
       " 'FRACNSIGMA',\n",
       " 'FRACNSIGHI',\n",
       " 'FRACNSIGLO',\n",
       " 'SPECTROFLUX',\n",
       " 'SPECTROFLUX_IVAR',\n",
       " 'SPECTROSYNFLUX',\n",
       " 'SPECTROSYNFLUX_IVAR',\n",
       " 'SPECTROSKYFLUX',\n",
       " 'ANYANDMASK',\n",
       " 'ANYORMASK',\n",
       " 'SPEC1_G',\n",
       " 'SPEC1_R',\n",
       " 'SPEC1_I',\n",
       " 'SPEC2_G',\n",
       " 'SPEC2_R',\n",
       " 'SPEC2_I',\n",
       " 'ELODIE_FILENAME',\n",
       " 'ELODIE_OBJECT',\n",
       " 'ELODIE_SPTYPE',\n",
       " 'ELODIE_BV',\n",
       " 'ELODIE_TEFF',\n",
       " 'ELODIE_LOGG',\n",
       " 'ELODIE_FEH',\n",
       " 'ELODIE_Z',\n",
       " 'ELODIE_Z_ERR',\n",
       " 'ELODIE_Z_MODELERR',\n",
       " 'ELODIE_RCHI2',\n",
       " 'ELODIE_DOF',\n",
       " 'Z_NOQSO',\n",
       " 'Z_ERR_NOQSO',\n",
       " 'ZNUM_NOQSO',\n",
       " 'ZWARNING_NOQSO',\n",
       " 'CLASS_NOQSO',\n",
       " 'SUBCLASS_NOQSO',\n",
       " 'RCHI2DIFF_NOQSO',\n",
       " 'VDISP_LNL',\n",
       " 'SPECOBJID',\n",
       " 'OBJID',\n",
       " 'PARENTID',\n",
       " 'FIELDID',\n",
       " 'SKYVERSION',\n",
       " 'MODE',\n",
       " 'CLEAN',\n",
       " 'RUN',\n",
       " 'RERUN',\n",
       " 'CAMCOL',\n",
       " 'FIELD',\n",
       " 'ID',\n",
       " 'PARENT',\n",
       " 'NCHILD',\n",
       " 'OBJC_TYPE',\n",
       " 'OBJC_PROB_PSF',\n",
       " 'OBJC_FLAGS',\n",
       " 'OBJC_FLAGS2',\n",
       " 'OBJC_ROWC',\n",
       " 'OBJC_ROWCERR',\n",
       " 'OBJC_COLC',\n",
       " 'OBJC_COLCERR',\n",
       " 'ROWVDEG',\n",
       " 'ROWVDEGERR',\n",
       " 'COLVDEG',\n",
       " 'COLVDEGERR',\n",
       " 'ROWC',\n",
       " 'ROWCERR',\n",
       " 'COLC',\n",
       " 'COLCERR',\n",
       " 'PETROTHETA',\n",
       " 'PETROTHETAERR',\n",
       " 'PETROTH50',\n",
       " 'PETROTH50ERR',\n",
       " 'PETROTH90',\n",
       " 'PETROTH90ERR',\n",
       " 'Q',\n",
       " 'QERR',\n",
       " 'U',\n",
       " 'UERR',\n",
       " 'M_E1',\n",
       " 'M_E2',\n",
       " 'M_E1E1ERR',\n",
       " 'M_E1E2ERR',\n",
       " 'M_E2E2ERR',\n",
       " 'M_RR_CC',\n",
       " 'M_RR_CCERR',\n",
       " 'M_CR4',\n",
       " 'M_E1_PSF',\n",
       " 'M_E2_PSF',\n",
       " 'M_RR_CC_PSF',\n",
       " 'M_CR4_PSF',\n",
       " 'THETA_DEV',\n",
       " 'THETA_DEVERR',\n",
       " 'AB_DEV',\n",
       " 'AB_DEVERR',\n",
       " 'THETA_EXP',\n",
       " 'THETA_EXPERR',\n",
       " 'AB_EXP',\n",
       " 'AB_EXPERR',\n",
       " 'FRACDEV',\n",
       " 'FLAGS',\n",
       " 'FLAGS2',\n",
       " 'TYPE',\n",
       " 'PROB_PSF',\n",
       " 'NPROF',\n",
       " 'PROFMEAN_NMGY',\n",
       " 'PROFERR_NMGY',\n",
       " 'STAR_LNL',\n",
       " 'EXP_LNL',\n",
       " 'DEV_LNL',\n",
       " 'PSP_STATUS',\n",
       " 'PIXSCALE',\n",
       " 'RA',\n",
       " 'DEC',\n",
       " 'CX',\n",
       " 'CY',\n",
       " 'CZ',\n",
       " 'RAERR',\n",
       " 'DECERR',\n",
       " 'L',\n",
       " 'B',\n",
       " 'OFFSETRA',\n",
       " 'OFFSETDEC',\n",
       " 'PSF_FWHM',\n",
       " 'AIRMASS',\n",
       " 'PHI_OFFSET',\n",
       " 'PHI_DEV_DEG',\n",
       " 'PHI_EXP_DEG',\n",
       " 'EXTINCTION',\n",
       " 'SKYFLUX',\n",
       " 'SKYFLUX_IVAR',\n",
       " 'PSFFLUX',\n",
       " 'PSFFLUX_IVAR',\n",
       " 'PSFMAG',\n",
       " 'PSFMAGERR',\n",
       " 'FIBERFLUX',\n",
       " 'FIBERFLUX_IVAR',\n",
       " 'FIBERMAG',\n",
       " 'FIBERMAGERR',\n",
       " 'FIBER2FLUX',\n",
       " 'FIBER2FLUX_IVAR',\n",
       " 'FIBER2MAG',\n",
       " 'FIBER2MAGERR',\n",
       " 'CMODELFLUX',\n",
       " 'CMODELFLUX_IVAR',\n",
       " 'CMODELMAG',\n",
       " 'CMODELMAGERR',\n",
       " 'MODELFLUX',\n",
       " 'MODELFLUX_IVAR',\n",
       " 'MODELMAG',\n",
       " 'MODELMAGERR',\n",
       " 'PETROFLUX',\n",
       " 'PETROFLUX_IVAR',\n",
       " 'PETROMAG',\n",
       " 'PETROMAGERR',\n",
       " 'DEVFLUX',\n",
       " 'DEVFLUX_IVAR',\n",
       " 'DEVMAG',\n",
       " 'DEVMAGERR',\n",
       " 'EXPFLUX',\n",
       " 'EXPFLUX_IVAR',\n",
       " 'EXPMAG',\n",
       " 'EXPMAGERR',\n",
       " 'APERFLUX',\n",
       " 'APERFLUX_IVAR',\n",
       " 'CLOUDCAM',\n",
       " 'CALIB_STATUS',\n",
       " 'NMGYPERCOUNT',\n",
       " 'NMGYPERCOUNT_IVAR',\n",
       " 'TAI',\n",
       " 'RESOLVE_STATUS',\n",
       " 'THING_ID',\n",
       " 'IFIELD',\n",
       " 'BALKAN_ID',\n",
       " 'NOBSERVE',\n",
       " 'NDETECT',\n",
       " 'NEDGE',\n",
       " 'SCORE']"
      ]
     },
     "execution_count": 12,
     "metadata": {},
     "output_type": "execute_result"
    }
   ],
   "source": [
    "fi[2].columns.names "
   ]
  },
  {
   "cell_type": "code",
   "execution_count": 13,
   "metadata": {
    "collapsed": false
   },
   "outputs": [
    {
     "ename": "AttributeError",
     "evalue": "recarray has no attribute EBOSS_TARGET1",
     "output_type": "error",
     "traceback": [
      "\u001b[0;31m---------------------------------------------------------------------------\u001b[0m",
      "\u001b[0;31mAttributeError\u001b[0m                            Traceback (most recent call last)",
      "\u001b[0;32m<ipython-input-13-120b484c059d>\u001b[0m in \u001b[0;36m<module>\u001b[0;34m()\u001b[0m\n\u001b[0;32m----> 1\u001b[0;31m \u001b[0mda\u001b[0m \u001b[0;34m=\u001b[0m\u001b[0mfi\u001b[0m\u001b[0;34m[\u001b[0m\u001b[0;36m1\u001b[0m\u001b[0;34m]\u001b[0m\u001b[0;34m.\u001b[0m\u001b[0mdata\u001b[0m\u001b[0;34m.\u001b[0m\u001b[0mEBOSS_TARGET1\u001b[0m\u001b[0;34m[\u001b[0m\u001b[0;36m0\u001b[0m\u001b[0;34m:\u001b[0m\u001b[0;36m10\u001b[0m\u001b[0;34m]\u001b[0m\u001b[0;34m\u001b[0m\u001b[0m\n\u001b[0m",
      "\u001b[0;32m//anaconda/lib/python2.7/site-packages/numpy/core/records.pyc\u001b[0m in \u001b[0;36m__getattribute__\u001b[0;34m(self, attr)\u001b[0m\n\u001b[1;32m    444\u001b[0m             \u001b[0mres\u001b[0m \u001b[0;34m=\u001b[0m \u001b[0mfielddict\u001b[0m\u001b[0;34m[\u001b[0m\u001b[0mattr\u001b[0m\u001b[0;34m]\u001b[0m\u001b[0;34m[\u001b[0m\u001b[0;34m:\u001b[0m\u001b[0;36m2\u001b[0m\u001b[0;34m]\u001b[0m\u001b[0;34m\u001b[0m\u001b[0m\n\u001b[1;32m    445\u001b[0m         \u001b[0;32mexcept\u001b[0m \u001b[0;34m(\u001b[0m\u001b[0mTypeError\u001b[0m\u001b[0;34m,\u001b[0m \u001b[0mKeyError\u001b[0m\u001b[0;34m)\u001b[0m\u001b[0;34m:\u001b[0m\u001b[0;34m\u001b[0m\u001b[0m\n\u001b[0;32m--> 446\u001b[0;31m             \u001b[0;32mraise\u001b[0m \u001b[0mAttributeError\u001b[0m\u001b[0;34m(\u001b[0m\u001b[0;34m\"recarray has no attribute %s\"\u001b[0m \u001b[0;34m%\u001b[0m \u001b[0mattr\u001b[0m\u001b[0;34m)\u001b[0m\u001b[0;34m\u001b[0m\u001b[0m\n\u001b[0m\u001b[1;32m    447\u001b[0m         \u001b[0mobj\u001b[0m \u001b[0;34m=\u001b[0m \u001b[0mself\u001b[0m\u001b[0;34m.\u001b[0m\u001b[0mgetfield\u001b[0m\u001b[0;34m(\u001b[0m\u001b[0;34m*\u001b[0m\u001b[0mres\u001b[0m\u001b[0;34m)\u001b[0m\u001b[0;34m\u001b[0m\u001b[0m\n\u001b[1;32m    448\u001b[0m \u001b[0;34m\u001b[0m\u001b[0m\n",
      "\u001b[0;31mAttributeError\u001b[0m: recarray has no attribute EBOSS_TARGET1"
     ]
    }
   ],
   "source": [
    "da =fi[1].data.EBOSS_TARGET1[0:10]"
   ]
  },
  {
   "cell_type": "code",
   "execution_count": 20,
   "metadata": {
    "collapsed": false
   },
   "outputs": [
    {
     "name": "stdout",
     "output_type": "stream",
     "text": [
      "[0]\n"
     ]
    }
   ],
   "source": [
    "print da"
   ]
  },
  {
   "cell_type": "code",
   "execution_count": 28,
   "metadata": {
    "collapsed": false
   },
   "outputs": [
    {
     "data": {
      "text/plain": [
       "array([-3.2651124 ,  0.11808137,  0.60779589, -1.75570321, -4.62693167,\n",
       "       -4.86922503,  4.00702   , -0.85335493,  0.50658697,  4.91488552], dtype=float32)"
      ]
     },
     "execution_count": 28,
     "metadata": {},
     "output_type": "execute_result"
    }
   ],
   "source": [
    "fi[1].data.flux[0:10]"
   ]
  },
  {
   "cell_type": "code",
   "execution_count": null,
   "metadata": {
    "collapsed": true
   },
   "outputs": [],
   "source": []
  }
 ],
 "metadata": {
  "kernelspec": {
   "display_name": "Python 2",
   "language": "python",
   "name": "python2"
  },
  "language_info": {
   "codemirror_mode": {
    "name": "ipython",
    "version": 2
   },
   "file_extension": ".py",
   "mimetype": "text/x-python",
   "name": "python",
   "nbconvert_exporter": "python",
   "pygments_lexer": "ipython2",
   "version": "2.7.11"
  }
 },
 "nbformat": 4,
 "nbformat_minor": 0
}
