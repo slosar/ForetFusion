{
 "cells": [
  {
   "cell_type": "code",
   "execution_count": 4,
   "metadata": {
    "collapsed": false
   },
   "outputs": [
    {
     "name": "stderr",
     "output_type": "stream",
     "text": [
      "/Library/Python/2.7/site-packages/matplotlib/font_manager.py:273: UserWarning: Matplotlib is building the font cache using fc-list. This may take a moment.\n",
      "  warnings.warn('Matplotlib is building the font cache using fc-list. This may take a moment.')\n"
     ]
    }
   ],
   "source": [
    "import fitsio\n",
    "import numpy as np\n",
    "import healpy as hp\n",
    "import pandas as pd\n",
    "import matplotlib.pyplot as plt\n",
    "\n",
    "#from base64 import b64encode\n",
    "#import mechanize\n",
    "\n",
    "%matplotlib inline\n",
    "\n",
    "# I'm using Pandas (based on numpy), which is a very useful tool for\n",
    "# handling tables and data.\n",
    "# I'll properly put them into classes or more organized later"
   ]
  },
  {
   "cell_type": "code",
   "execution_count": 2,
   "metadata": {
    "collapsed": true
   },
   "outputs": [],
   "source": [
    "#12GB file, be carefull\n",
    "file_name = 'data/spAll-v5_10_0.fits'\n",
    "\n",
    "fits = fitsio.FITS(file_name) \n",
    "\n",
    "# Columns we are interested on\n",
    "cols = ['CLASS', 'RA','DEC','THING_ID','OBJTYPE','MJD','PLATE','FIBERID','BOSS_TARGET1','EBOSS_TARGET0','EBOSS_TARGET1']"
   ]
  },
  {
   "cell_type": "code",
   "execution_count": 3,
   "metadata": {
    "collapsed": true
   },
   "outputs": [],
   "source": [
    "# to show all names in file\n",
    "#fits[1]"
   ]
  },
  {
   "cell_type": "code",
   "execution_count": 4,
   "metadata": {
    "collapsed": true
   },
   "outputs": [],
   "source": [
    "data  = fits[1].read(columns= cols)"
   ]
  },
  {
   "cell_type": "code",
   "execution_count": 5,
   "metadata": {
    "collapsed": false
   },
   "outputs": [
    {
     "name": "stdout",
     "output_type": "stream",
     "text": [
      "CPU times: user 356 ms, sys: 375 ms, total: 731 ms\n",
      "Wall time: 795 ms\n"
     ]
    }
   ],
   "source": [
    "%%time\n",
    "\n",
    "d = {col:data[col].byteswap().newbyteorder() for col in cols}"
   ]
  },
  {
   "cell_type": "code",
   "execution_count": 6,
   "metadata": {
    "collapsed": true
   },
   "outputs": [],
   "source": [
    "#%%time\n",
    "\n",
    "# Reading columns\n",
    "#http://stackoverflow.com/questions/30283836/creating-pandas-dataframe-from-numpy-array-leads-to-strange-errors\n",
    "#d = {col: fits[1][col].read().byteswap().newbyteorder() for col in cols}"
   ]
  },
  {
   "cell_type": "code",
   "execution_count": 7,
   "metadata": {
    "collapsed": false
   },
   "outputs": [
    {
     "data": {
      "text/html": [
       "<div>\n",
       "<table border=\"1\" class=\"dataframe\">\n",
       "  <thead>\n",
       "    <tr style=\"text-align: right;\">\n",
       "      <th></th>\n",
       "      <th>BOSS_TARGET1</th>\n",
       "      <th>CLASS</th>\n",
       "      <th>DEC</th>\n",
       "      <th>EBOSS_TARGET0</th>\n",
       "      <th>EBOSS_TARGET1</th>\n",
       "      <th>FIBERID</th>\n",
       "      <th>MJD</th>\n",
       "      <th>OBJTYPE</th>\n",
       "      <th>PLATE</th>\n",
       "      <th>RA</th>\n",
       "      <th>THING_ID</th>\n",
       "    </tr>\n",
       "  </thead>\n",
       "  <tbody>\n",
       "    <tr>\n",
       "      <th>0</th>\n",
       "      <td>0</td>\n",
       "      <td>GALAXY</td>\n",
       "      <td>26.188042</td>\n",
       "      <td>0</td>\n",
       "      <td>2</td>\n",
       "      <td>1</td>\n",
       "      <td>57346</td>\n",
       "      <td>GALAXY</td>\n",
       "      <td>10000</td>\n",
       "      <td>30.012094</td>\n",
       "      <td>339167825</td>\n",
       "    </tr>\n",
       "    <tr>\n",
       "      <th>1</th>\n",
       "      <td>0</td>\n",
       "      <td>QSO</td>\n",
       "      <td>26.582945</td>\n",
       "      <td>0</td>\n",
       "      <td>1024</td>\n",
       "      <td>2</td>\n",
       "      <td>57346</td>\n",
       "      <td>QSO</td>\n",
       "      <td>10000</td>\n",
       "      <td>31.282286</td>\n",
       "      <td>342410358</td>\n",
       "    </tr>\n",
       "    <tr>\n",
       "      <th>2</th>\n",
       "      <td>0</td>\n",
       "      <td>GALAXY</td>\n",
       "      <td>26.608501</td>\n",
       "      <td>0</td>\n",
       "      <td>2</td>\n",
       "      <td>3</td>\n",
       "      <td>57346</td>\n",
       "      <td>GALAXY</td>\n",
       "      <td>10000</td>\n",
       "      <td>31.279594</td>\n",
       "      <td>342410449</td>\n",
       "    </tr>\n",
       "    <tr>\n",
       "      <th>3</th>\n",
       "      <td>0</td>\n",
       "      <td>QSO</td>\n",
       "      <td>26.682522</td>\n",
       "      <td>0</td>\n",
       "      <td>2048</td>\n",
       "      <td>4</td>\n",
       "      <td>57346</td>\n",
       "      <td>QSO</td>\n",
       "      <td>10000</td>\n",
       "      <td>31.237546</td>\n",
       "      <td>342675982</td>\n",
       "    </tr>\n",
       "    <tr>\n",
       "      <th>4</th>\n",
       "      <td>0</td>\n",
       "      <td>STAR</td>\n",
       "      <td>26.866054</td>\n",
       "      <td>0</td>\n",
       "      <td>2</td>\n",
       "      <td>5</td>\n",
       "      <td>57346</td>\n",
       "      <td>GALAXY</td>\n",
       "      <td>10000</td>\n",
       "      <td>31.394521</td>\n",
       "      <td>344112497</td>\n",
       "    </tr>\n",
       "  </tbody>\n",
       "</table>\n",
       "</div>"
      ],
      "text/plain": [
       "   BOSS_TARGET1   CLASS        DEC  EBOSS_TARGET0  EBOSS_TARGET1  FIBERID  \\\n",
       "0             0  GALAXY  26.188042              0              2        1   \n",
       "1             0  QSO     26.582945              0           1024        2   \n",
       "2             0  GALAXY  26.608501              0              2        3   \n",
       "3             0  QSO     26.682522              0           2048        4   \n",
       "4             0  STAR    26.866054              0              2        5   \n",
       "\n",
       "     MJD           OBJTYPE  PLATE         RA   THING_ID  \n",
       "0  57346  GALAXY            10000  30.012094  339167825  \n",
       "1  57346  QSO               10000  31.282286  342410358  \n",
       "2  57346  GALAXY            10000  31.279594  342410449  \n",
       "3  57346  QSO               10000  31.237546  342675982  \n",
       "4  57346  GALAXY            10000  31.394521  344112497  "
      ]
     },
     "execution_count": 7,
     "metadata": {},
     "output_type": "execute_result"
    }
   ],
   "source": [
    "df = pd.DataFrame(d)\n",
    "#print 'number of rows =', len(df)\n",
    "df.head()"
   ]
  },
  {
   "cell_type": "code",
   "execution_count": 8,
   "metadata": {
    "collapsed": true
   },
   "outputs": [],
   "source": [
    "#%%time\n",
    "#df.to_csv('subset_spAll-v5_10_0.csv', index=False)\n",
    "#df = pd.read_csv('data/subset_spAll-v5_10_0.csv')"
   ]
  },
  {
   "cell_type": "code",
   "execution_count": 9,
   "metadata": {
    "collapsed": false
   },
   "outputs": [
    {
     "name": "stdout",
     "output_type": "stream",
     "text": [
      "('number of rows =', 3008000)\n"
     ]
    },
    {
     "data": {
      "text/html": [
       "<div>\n",
       "<table border=\"1\" class=\"dataframe\">\n",
       "  <thead>\n",
       "    <tr style=\"text-align: right;\">\n",
       "      <th></th>\n",
       "      <th>BOSS_TARGET1</th>\n",
       "      <th>CLASS</th>\n",
       "      <th>DEC</th>\n",
       "      <th>EBOSS_TARGET0</th>\n",
       "      <th>EBOSS_TARGET1</th>\n",
       "      <th>FIBERID</th>\n",
       "      <th>MJD</th>\n",
       "      <th>OBJTYPE</th>\n",
       "      <th>PLATE</th>\n",
       "      <th>RA</th>\n",
       "      <th>THING_ID</th>\n",
       "    </tr>\n",
       "  </thead>\n",
       "  <tbody>\n",
       "    <tr>\n",
       "      <th>0</th>\n",
       "      <td>0</td>\n",
       "      <td>GALAXY</td>\n",
       "      <td>26.188042</td>\n",
       "      <td>0</td>\n",
       "      <td>2</td>\n",
       "      <td>1</td>\n",
       "      <td>57346</td>\n",
       "      <td>GALAXY</td>\n",
       "      <td>10000</td>\n",
       "      <td>30.012094</td>\n",
       "      <td>339167825</td>\n",
       "    </tr>\n",
       "    <tr>\n",
       "      <th>1</th>\n",
       "      <td>0</td>\n",
       "      <td>QSO</td>\n",
       "      <td>26.582945</td>\n",
       "      <td>0</td>\n",
       "      <td>1024</td>\n",
       "      <td>2</td>\n",
       "      <td>57346</td>\n",
       "      <td>QSO</td>\n",
       "      <td>10000</td>\n",
       "      <td>31.282286</td>\n",
       "      <td>342410358</td>\n",
       "    </tr>\n",
       "    <tr>\n",
       "      <th>2</th>\n",
       "      <td>0</td>\n",
       "      <td>GALAXY</td>\n",
       "      <td>26.608501</td>\n",
       "      <td>0</td>\n",
       "      <td>2</td>\n",
       "      <td>3</td>\n",
       "      <td>57346</td>\n",
       "      <td>GALAXY</td>\n",
       "      <td>10000</td>\n",
       "      <td>31.279594</td>\n",
       "      <td>342410449</td>\n",
       "    </tr>\n",
       "    <tr>\n",
       "      <th>3</th>\n",
       "      <td>0</td>\n",
       "      <td>QSO</td>\n",
       "      <td>26.682522</td>\n",
       "      <td>0</td>\n",
       "      <td>2048</td>\n",
       "      <td>4</td>\n",
       "      <td>57346</td>\n",
       "      <td>QSO</td>\n",
       "      <td>10000</td>\n",
       "      <td>31.237546</td>\n",
       "      <td>342675982</td>\n",
       "    </tr>\n",
       "    <tr>\n",
       "      <th>4</th>\n",
       "      <td>0</td>\n",
       "      <td>STAR</td>\n",
       "      <td>26.866054</td>\n",
       "      <td>0</td>\n",
       "      <td>2</td>\n",
       "      <td>5</td>\n",
       "      <td>57346</td>\n",
       "      <td>GALAXY</td>\n",
       "      <td>10000</td>\n",
       "      <td>31.394521</td>\n",
       "      <td>344112497</td>\n",
       "    </tr>\n",
       "  </tbody>\n",
       "</table>\n",
       "</div>"
      ],
      "text/plain": [
       "   BOSS_TARGET1   CLASS        DEC  EBOSS_TARGET0  EBOSS_TARGET1  FIBERID  \\\n",
       "0             0  GALAXY  26.188042              0              2        1   \n",
       "1             0  QSO     26.582945              0           1024        2   \n",
       "2             0  GALAXY  26.608501              0              2        3   \n",
       "3             0  QSO     26.682522              0           2048        4   \n",
       "4             0  STAR    26.866054              0              2        5   \n",
       "\n",
       "     MJD           OBJTYPE  PLATE         RA   THING_ID  \n",
       "0  57346  GALAXY            10000  30.012094  339167825  \n",
       "1  57346  QSO               10000  31.282286  342410358  \n",
       "2  57346  GALAXY            10000  31.279594  342410449  \n",
       "3  57346  QSO               10000  31.237546  342675982  \n",
       "4  57346  GALAXY            10000  31.394521  344112497  "
      ]
     },
     "execution_count": 9,
     "metadata": {},
     "output_type": "execute_result"
    }
   ],
   "source": [
    "print ('number of rows =', len(df))\n",
    "df.head()"
   ]
  },
  {
   "cell_type": "markdown",
   "metadata": {},
   "source": [
    "## Computing pixels"
   ]
  },
  {
   "cell_type": "code",
   "execution_count": 10,
   "metadata": {
    "collapsed": false
   },
   "outputs": [
    {
     "data": {
      "text/plain": [
       "3369"
      ]
     },
     "execution_count": 10,
     "metadata": {},
     "output_type": "execute_result"
    }
   ],
   "source": [
    "'''map celestial coordinates to angular'''\n",
    "\n",
    "#The resolution of the map\n",
    "NSide = 2**5\n",
    "\n",
    "phi_rad   = lambda ra : ra*np.pi/180.\n",
    "theta_rad = lambda dec: (90.0 - dec)*np.pi/180.\n",
    "\n",
    "df['PIX'] = hp.ang2pix(NSide, theta_rad(df['DEC']), phi_rad(df['RA']))\n",
    "\n",
    "# Number of unique pixels\n",
    "len(df['PIX'].unique())"
   ]
  },
  {
   "cell_type": "code",
   "execution_count": 11,
   "metadata": {
    "collapsed": false
   },
   "outputs": [
    {
     "data": {
      "text/html": [
       "<div>\n",
       "<table border=\"1\" class=\"dataframe\">\n",
       "  <thead>\n",
       "    <tr style=\"text-align: right;\">\n",
       "      <th></th>\n",
       "      <th>BOSS_TARGET1</th>\n",
       "      <th>CLASS</th>\n",
       "      <th>DEC</th>\n",
       "      <th>EBOSS_TARGET0</th>\n",
       "      <th>EBOSS_TARGET1</th>\n",
       "      <th>FIBERID</th>\n",
       "      <th>MJD</th>\n",
       "      <th>OBJTYPE</th>\n",
       "      <th>PLATE</th>\n",
       "      <th>RA</th>\n",
       "      <th>THING_ID</th>\n",
       "      <th>PIX</th>\n",
       "    </tr>\n",
       "  </thead>\n",
       "  <tbody>\n",
       "    <tr>\n",
       "      <th>1</th>\n",
       "      <td>0</td>\n",
       "      <td>QSO</td>\n",
       "      <td>26.582945</td>\n",
       "      <td>0</td>\n",
       "      <td>1024</td>\n",
       "      <td>2</td>\n",
       "      <td>57346</td>\n",
       "      <td>QSO</td>\n",
       "      <td>10000</td>\n",
       "      <td>31.282286</td>\n",
       "      <td>342410358</td>\n",
       "      <td>3403</td>\n",
       "    </tr>\n",
       "    <tr>\n",
       "      <th>3</th>\n",
       "      <td>0</td>\n",
       "      <td>QSO</td>\n",
       "      <td>26.682522</td>\n",
       "      <td>0</td>\n",
       "      <td>2048</td>\n",
       "      <td>4</td>\n",
       "      <td>57346</td>\n",
       "      <td>QSO</td>\n",
       "      <td>10000</td>\n",
       "      <td>31.237546</td>\n",
       "      <td>342675982</td>\n",
       "      <td>3403</td>\n",
       "    </tr>\n",
       "    <tr>\n",
       "      <th>5</th>\n",
       "      <td>0</td>\n",
       "      <td>QSO</td>\n",
       "      <td>26.810259</td>\n",
       "      <td>0</td>\n",
       "      <td>1024</td>\n",
       "      <td>6</td>\n",
       "      <td>57346</td>\n",
       "      <td>QSO</td>\n",
       "      <td>10000</td>\n",
       "      <td>31.327011</td>\n",
       "      <td>344111998</td>\n",
       "      <td>3403</td>\n",
       "    </tr>\n",
       "    <tr>\n",
       "      <th>6</th>\n",
       "      <td>0</td>\n",
       "      <td>QSO</td>\n",
       "      <td>26.935936</td>\n",
       "      <td>0</td>\n",
       "      <td>2048</td>\n",
       "      <td>7</td>\n",
       "      <td>57346</td>\n",
       "      <td>QSO</td>\n",
       "      <td>10000</td>\n",
       "      <td>31.408747</td>\n",
       "      <td>345724597</td>\n",
       "      <td>3275</td>\n",
       "    </tr>\n",
       "    <tr>\n",
       "      <th>7</th>\n",
       "      <td>0</td>\n",
       "      <td>QSO</td>\n",
       "      <td>26.953807</td>\n",
       "      <td>0</td>\n",
       "      <td>1024</td>\n",
       "      <td>8</td>\n",
       "      <td>57346</td>\n",
       "      <td>QSO</td>\n",
       "      <td>10000</td>\n",
       "      <td>31.362048</td>\n",
       "      <td>345724589</td>\n",
       "      <td>3275</td>\n",
       "    </tr>\n",
       "  </tbody>\n",
       "</table>\n",
       "</div>"
      ],
      "text/plain": [
       "   BOSS_TARGET1   CLASS        DEC  EBOSS_TARGET0  EBOSS_TARGET1  FIBERID  \\\n",
       "1             0  QSO     26.582945              0           1024        2   \n",
       "3             0  QSO     26.682522              0           2048        4   \n",
       "5             0  QSO     26.810259              0           1024        6   \n",
       "6             0  QSO     26.935936              0           2048        7   \n",
       "7             0  QSO     26.953807              0           1024        8   \n",
       "\n",
       "     MJD           OBJTYPE  PLATE         RA   THING_ID   PIX  \n",
       "1  57346  QSO               10000  31.282286  342410358  3403  \n",
       "3  57346  QSO               10000  31.237546  342675982  3403  \n",
       "5  57346  QSO               10000  31.327011  344111998  3403  \n",
       "6  57346  QSO               10000  31.408747  345724597  3275  \n",
       "7  57346  QSO               10000  31.362048  345724589  3275  "
      ]
     },
     "execution_count": 11,
     "metadata": {},
     "output_type": "execute_result"
    }
   ],
   "source": [
    "df = df.query('CLASS== \"QSO\".ljust(6) & (OBJTYPE==\"QSO\".ljust(16) | OBJTYPE==\"NA\".ljust(16)) & THING_ID != -1')\n",
    "df.head()"
   ]
  },
  {
   "cell_type": "code",
   "execution_count": null,
   "metadata": {
    "collapsed": true
   },
   "outputs": [],
   "source": []
  },
  {
   "cell_type": "code",
   "execution_count": null,
   "metadata": {
    "collapsed": true
   },
   "outputs": [],
   "source": []
  },
  {
   "cell_type": "code",
   "execution_count": null,
   "metadata": {
    "collapsed": true
   },
   "outputs": [],
   "source": []
  },
  {
   "cell_type": "code",
   "execution_count": null,
   "metadata": {
    "collapsed": true
   },
   "outputs": [],
   "source": []
  },
  {
   "cell_type": "code",
   "execution_count": null,
   "metadata": {
    "collapsed": true
   },
   "outputs": [],
   "source": []
  },
  {
   "cell_type": "code",
   "execution_count": 67,
   "metadata": {
    "collapsed": false
   },
   "outputs": [
    {
     "data": {
      "text/plain": [
       "{'a': [5]}"
      ]
     },
     "execution_count": 67,
     "metadata": {},
     "output_type": "execute_result"
    }
   ],
   "source": [
    "d = {}\n",
    "d['a']=[5]\n",
    "d"
   ]
  },
  {
   "cell_type": "code",
   "execution_count": 68,
   "metadata": {
    "collapsed": false
   },
   "outputs": [
    {
     "data": {
      "text/plain": [
       "{'a': [5, 3]}"
      ]
     },
     "execution_count": 68,
     "metadata": {},
     "output_type": "execute_result"
    }
   ],
   "source": [
    "d['a'].append(3)\n",
    "d"
   ]
  },
  {
   "cell_type": "code",
   "execution_count": 73,
   "metadata": {
    "collapsed": false
   },
   "outputs": [
    {
     "data": {
      "text/plain": [
       "[[1, 2, 3], ['a', 'b', 'c']]"
      ]
     },
     "execution_count": 73,
     "metadata": {},
     "output_type": "execute_result"
    }
   ],
   "source": [
    "data = [[1,2,3],['a','b','c']]\n",
    "data"
   ]
  },
  {
   "cell_type": "code",
   "execution_count": 218,
   "metadata": {
    "collapsed": false
   },
   "outputs": [
    {
     "data": {
      "text/plain": [
       "['healp_1', 'healp_2']"
      ]
     },
     "execution_count": 218,
     "metadata": {},
     "output_type": "execute_result"
    }
   ],
   "source": [
    "data = {'healp_1':[1,2,3], 'healp_2':[2,3,4]}\n",
    "list(data)"
   ]
  },
  {
   "cell_type": "code",
   "execution_count": 16,
   "metadata": {
    "collapsed": true
   },
   "outputs": [],
   "source": [
    "import fitsio\n",
    "import numpy\n",
    "from fitsio import FITS,FITSHDR"
   ]
  },
  {
   "cell_type": "code",
   "execution_count": 39,
   "metadata": {
    "collapsed": false
   },
   "outputs": [],
   "source": [
    "%rm test3.fits\n",
    "fits = FITS('test3.fits','rw')\n",
    "nrows=3\n",
    "data = np.zeros(nrows, dtype=[('index','i4'),('vstr','O'),('x','S8'),\n",
    "                                 ('arr','f4',(3,2))])\n",
    "data['index'] = numpy.arange(nrows,dtype='i4')\n",
    "data['x'] = numpy.random.random(nrows)\n",
    "data['vstr'] = [str(i) for i in xrange(nrows)]\n",
    "data['arr'] = numpy.arange(nrows*3*2,dtype='f4').reshape(nrows,3,2)"
   ]
  },
  {
   "cell_type": "code",
   "execution_count": 40,
   "metadata": {
    "collapsed": false
   },
   "outputs": [
    {
     "data": {
      "text/plain": [
       "{'arr': array([[[  0.,   1.],\n",
       "         [  2.,   3.],\n",
       "         [  4.,   5.]],\n",
       " \n",
       "        [[  6.,   7.],\n",
       "         [  8.,   9.],\n",
       "         [ 10.,  11.]],\n",
       " \n",
       "        [[ 12.,  13.],\n",
       "         [ 14.,  15.],\n",
       "         [ 16.,  17.]]], dtype=float32),\n",
       " 'index': array([0, 1, 2], dtype=int32),\n",
       " 'vstr': array(['0', '1', '2'], dtype=object),\n",
       " 'x': array(['0.736731', '0.023143', '0.796612'], \n",
       "       dtype='|S8')}"
      ]
     },
     "execution_count": 40,
     "metadata": {},
     "output_type": "execute_result"
    }
   ],
   "source": [
    "d = {col: data[col] for col in ['index','x','vstr', 'arr']}\n",
    "d"
   ]
  },
  {
   "cell_type": "code",
   "execution_count": 57,
   "metadata": {
    "collapsed": false
   },
   "outputs": [],
   "source": [
    "nrows=3\n",
    "#data = np.zeros(nrows, dtype=[('index','i4'),('vstr','O'),('x','S8'),\n",
    "#                                 ('arr','f4',(3,2))])\n",
    "data ={}\n",
    "data['index'] = numpy.arange(nrows,dtype='i4')\n",
    "data['x'] = np.array(numpy.random.random(nrows),dtype='S8')\n",
    "data['vstr'] = np.array([str(i) for i in xrange(nrows)], dtype='O')\n",
    "data['arr'] = np.array(numpy.arange(nrows*3*1,dtype='f4').reshape(nrows,3,1),dtype= ('f4'))"
   ]
  },
  {
   "cell_type": "code",
   "execution_count": 58,
   "metadata": {
    "collapsed": false
   },
   "outputs": [
    {
     "data": {
      "text/plain": [
       "{'arr': array([[[ 0.],\n",
       "         [ 1.],\n",
       "         [ 2.]],\n",
       " \n",
       "        [[ 3.],\n",
       "         [ 4.],\n",
       "         [ 5.]],\n",
       " \n",
       "        [[ 6.],\n",
       "         [ 7.],\n",
       "         [ 8.]]], dtype=float32),\n",
       " 'index': array([0, 1, 2], dtype=int32),\n",
       " 'vstr': array(['0', '1', '2'], dtype=object),\n",
       " 'x': array(['0.470867', '0.776971', '0.642293'], \n",
       "       dtype='|S8')}"
      ]
     },
     "execution_count": 58,
     "metadata": {},
     "output_type": "execute_result"
    }
   ],
   "source": [
    "data"
   ]
  },
  {
   "cell_type": "code",
   "execution_count": 423,
   "metadata": {
    "collapsed": false
   },
   "outputs": [],
   "source": [
    "%rm test3.fits\n",
    "data = {'healp_1':np.array([1,2,3]), 'healp_2':np.array([2,3,4])}\n",
    "data['healp_4'] = np.array(['a','d','b'])\n",
    "#data['healp_3'] = np.array([[[1,2,3],[2,3,4]]])\n",
    "fdata   = data\n",
    "fits = fitsio.FITS('test3.fits','rw')\n",
    "fits.write(fdata)\n"
   ]
  },
  {
   "cell_type": "code",
   "execution_count": 445,
   "metadata": {
    "collapsed": false
   },
   "outputs": [],
   "source": [
    "fits = fitsio.FITS('test3.fits') "
   ]
  },
  {
   "cell_type": "code",
   "execution_count": 446,
   "metadata": {
    "collapsed": false
   },
   "outputs": [
    {
     "data": {
      "text/plain": [
       "array([[['abcd      ', '1         ', '2         ', '3         ']]], \n",
       "      dtype='|S10')"
      ]
     },
     "execution_count": 446,
     "metadata": {},
     "output_type": "execute_result"
    }
   ],
   "source": [
    "fits[1]['arr'][:]"
   ]
  },
  {
   "cell_type": "code",
   "execution_count": 464,
   "metadata": {
    "collapsed": false
   },
   "outputs": [],
   "source": [
    "d= {3403: {341840412: ['10000/spec-10000-57346-0100.fits', '5698/spec-5698-55947-0594.fits', '7691/spec-7691-57040-0093.fits', '7691/spec-7691-57360-0099.fits'], 340637645: ['10000/spec-10000-57346-0136.fits', '5697/spec-5697-55944-0969.fits', '7691/spec-7691-57040-0134.fits', '7691/spec-7691-57360-0132.fits'], 341840093: ['10000/spec-10000-57346-0092.fits', '5697/spec-5697-55944-0990.fits', '6270/spec-6270-56273-0202.fits', '7691/spec-7691-57040-0100.fits', '7691/spec-7691-57360-0094.fits']}}"
   ]
  },
  {
   "cell_type": "code",
   "execution_count": 468,
   "metadata": {
    "collapsed": false
   },
   "outputs": [
    {
     "data": {
      "text/plain": [
       "['10000/spec-10000-57346-0136.fits',\n",
       " '5697/spec-5697-55944-0969.fits',\n",
       " '7691/spec-7691-57040-0134.fits',\n",
       " '7691/spec-7691-57360-0132.fits']"
      ]
     },
     "execution_count": 468,
     "metadata": {},
     "output_type": "execute_result"
    }
   ],
   "source": [
    "d[3403][340637645]"
   ]
  },
  {
   "cell_type": "code",
   "execution_count": 547,
   "metadata": {
    "collapsed": false
   },
   "outputs": [],
   "source": [
    "with open('master_0.csv', 'r') as myfile:\n",
    "    data=myfile.read().replace('\\n', '')"
   ]
  },
  {
   "cell_type": "code",
   "execution_count": 565,
   "metadata": {
    "collapsed": false
   },
   "outputs": [],
   "source": [
    "a = pd.read_json('{\"0\":{\"0\":[1,2,3],\"1\":3},\"1\":{\"0\":2,\"1\":4}}')"
   ]
  },
  {
   "cell_type": "code",
   "execution_count": 567,
   "metadata": {
    "collapsed": false
   },
   "outputs": [
    {
     "data": {
      "text/plain": [
       "[1, 2, 3]"
      ]
     },
     "execution_count": 567,
     "metadata": {},
     "output_type": "execute_result"
    }
   ],
   "source": [
    "a[0][0]"
   ]
  },
  {
   "cell_type": "code",
   "execution_count": 89,
   "metadata": {
    "collapsed": false
   },
   "outputs": [
    {
     "data": {
      "text/plain": [
       "{'files': array([ ['10000/spec-10000-57346-0100.fits', '5698/spec-5698-55947-0594.fits', '7691/spec-7691-57040-0093.fits', '7691/spec-7691-57360-0099.fits'],\n",
       "        ['10000/spec-10000-57346-0136.fits', '5697/spec-5697-55944-0969.fits', '7691/spec-7691-57040-0134.fits', '7691/spec-7691-57360-0132.fits'],\n",
       "        ['10000/spec-10000-57346-0092.fits', '5697/spec-5697-55944-0990.fits', '6270/spec-6270-56273-0202.fits', '7691/spec-7691-57040-0100.fits', '7691/spec-7691-57360-0094.fits'],\n",
       "        ['10000/spec-10000-57346-0999.fits', '6270/spec-6270-56273-0074.fits', '6272/spec-6272-56325-0492.fits', '7691/spec-7691-57040-0996.fits', '7691/spec-7691-57360-0996.fits']], dtype=object)}"
      ]
     },
     "execution_count": 89,
     "metadata": {},
     "output_type": "execute_result"
    }
   ],
   "source": [
    "data={}\n",
    "data['files'] = np.array([['10000/spec-10000-57346-0100.fits', '5698/spec-5698-55947-0594.fits', '7691/spec-7691-57040-0093.fits', '7691/spec-7691-57360-0099.fits'],\n",
    " ['10000/spec-10000-57346-0136.fits', '5697/spec-5697-55944-0969.fits', '7691/spec-7691-57040-0134.fits', '7691/spec-7691-57360-0132.fits'],\n",
    " ['10000/spec-10000-57346-0092.fits', '5697/spec-5697-55944-0990.fits', '6270/spec-6270-56273-0202.fits', '7691/spec-7691-57040-0100.fits', '7691/spec-7691-57360-0094.fits'],\n",
    " ['10000/spec-10000-57346-0999.fits', '6270/spec-6270-56273-0074.fits', '6272/spec-6272-56325-0492.fits', '7691/spec-7691-57040-0996.fits', '7691/spec-7691-57360-0996.fits']])\n",
    "data"
   ]
  },
  {
   "cell_type": "code",
   "execution_count": 484,
   "metadata": {
    "collapsed": false
   },
   "outputs": [
    {
     "data": {
      "text/plain": [
       "{3402: {336426277: ['10000/spec-10000-57346-0364.fits',\n",
       "   '5697/spec-5697-55944-0814.fits',\n",
       "   '7691/spec-7691-57040-0364.fits',\n",
       "   '7691/spec-7691-57360-0364.fits'],\n",
       "  341037487: ['10000/spec-10000-57346-0456.fits',\n",
       "   '5697/spec-5697-55944-0672.fits',\n",
       "   '7691/spec-7691-57040-0456.fits',\n",
       "   '7691/spec-7691-57360-0448.fits'],\n",
       "  343269820: ['10000/spec-10000-57346-0482.fits',\n",
       "   '6268/spec-6268-56245-0210.fits',\n",
       "   '7691/spec-7691-57040-0486.fits',\n",
       "   '7691/spec-7691-57360-0486.fits'],\n",
       "  343388415: ['10000/spec-10000-57346-0484.fits',\n",
       "   '6268/spec-6268-56245-0177.fits',\n",
       "   '7691/spec-7691-57040-0490.fits',\n",
       "   '7691/spec-7691-57360-0492.fits']}}"
      ]
     },
     "execution_count": 484,
     "metadata": {},
     "output_type": "execute_result"
    }
   ],
   "source": [
    "df = {3403: {341840412: ['10000/spec-10000-57346-0100.fits', '5698/spec-5698-55947-0594.fits', '7691/spec-7691-57040-0093.fits', '7691/spec-7691-57360-0099.fits'], 340637645: ['10000/spec-10000-57346-0136.fits', '5697/spec-5697-55944-0969.fits', '7691/spec-7691-57040-0134.fits', '7691/spec-7691-57360-0132.fits'], 341840093: ['10000/spec-10000-57346-0092.fits', '5697/spec-5697-55944-0990.fits', '6270/spec-6270-56273-0202.fits', '7691/spec-7691-57040-0100.fits', '7691/spec-7691-57360-0094.fits']}}\n",
    "{3275: {349534382: ['10000/spec-10000-57346-0999.fits', '6270/spec-6270-56273-0074.fits', '6272/spec-6272-56325-0492.fits', '7691/spec-7691-57040-0996.fits', '7691/spec-7691-57360-0996.fits']}}\n",
    "{3274: {350554689: ['10000/spec-10000-57346-0693.fits', '6270/spec-6270-56273-0438.fits', '7691/spec-7691-57040-0690.fits', '7691/spec-7691-57360-0702.fits'], 346239524: ['10000/spec-10000-57346-0436.fits', '5697/spec-5697-55944-0662.fits', '6268/spec-6268-56245-0140.fits', '7691/spec-7691-57040-0440.fits', '7691/spec-7691-57360-0438.fits'], 351278054: ['10000/spec-10000-57346-0604.fits', '6270/spec-6270-56273-0559.fits', '7691/spec-7691-57040-0607.fits', '7691/spec-7691-57360-0719.fits'], 350868168: ['10000/spec-10000-57346-0888.fits', '6270/spec-6270-56273-0238.fits', '7691/spec-7691-57040-0888.fits', '7691/spec-7691-57360-0932.fits'], 348420585: ['10000/spec-10000-57346-0536.fits', '6268/spec-6268-56245-0152.fits', '7691/spec-7691-57040-0536.fits', '7691/spec-7691-57360-0558.fits'], 351046414: ['10000/spec-10000-57346-0642.fits', '6270/spec-6270-56273-0600.fits', '7691/spec-7691-57040-0647.fits', '7691/spec-7691-57360-0711.fits'], 342652719: ['10000/spec-10000-57346-0172.fits', '5698/spec-5698-55947-0508.fits', '7691/spec-7691-57040-0180.fits', '7691/spec-7691-57360-0176.fits'], 347714116: ['10000/spec-10000-57346-0614.fits', '6270/spec-6270-56273-0491.fits', '7691/spec-7691-57040-0616.fits', '7691/spec-7691-57360-0636.fits'], 350283464: ['10000/spec-10000-57346-0732.fits', '6270/spec-6270-56273-0392.fits', '7691/spec-7691-57040-0730.fits', '7691/spec-7691-57360-0784.fits'], 345257490: ['10000/spec-10000-57346-0307.fits', '6270/spec-6270-56273-0378.fits', '7691/spec-7691-57040-0308.fits', '7691/spec-7691-57360-0308.fits'], 346955029: ['10000/spec-10000-57346-0280.fits', '6270/spec-6270-56273-0384.fits', '7691/spec-7691-57040-0280.fits', '7691/spec-7691-57360-0278.fits'], 341123990: ['10000/spec-10000-57346-0260.fits', '5697/spec-5697-55944-0914.fits', '7691/spec-7691-57040-0254.fits', '7691/spec-7691-57360-0260.fits'], 344738135: ['10000/spec-10000-57346-0266.fits', '6270/spec-6270-56273-0340.fits', '7691/spec-7691-57040-0262.fits', '7691/spec-7691-57360-0270.fits'], 353593796: ['10000/spec-10000-57346-0757.fits', '6270/spec-6270-56273-0676.fits', '7691/spec-7691-57040-0756.fits'], 350610703: ['10000/spec-10000-57346-0890.fits', '6270/spec-6270-56273-0240.fits', '7691/spec-7691-57040-0892.fits', '7691/spec-7691-57360-0926.fits'], 348052255: ['10000/spec-10000-57346-0818.fits', '6270/spec-6270-56273-0342.fits', '7691/spec-7691-57040-0818.fits', '7691/spec-7691-57360-0826.fits']}}\n",
    "{3402: {341037487: ['10000/spec-10000-57346-0456.fits', '5697/spec-5697-55944-0672.fits', '7691/spec-7691-57040-0456.fits', '7691/spec-7691-57360-0448.fits'], 343269820: ['10000/spec-10000-57346-0482.fits', '6268/spec-6268-56245-0210.fits', '7691/spec-7691-57040-0486.fits', '7691/spec-7691-57360-0486.fits'], 336426277: ['10000/spec-10000-57346-0364.fits', '5697/spec-5697-55944-0814.fits', '7691/spec-7691-57040-0364.fits', '7691/spec-7691-57360-0364.fits'], 343388415: ['10000/spec-10000-57346-0484.fits', '6268/spec-6268-56245-0177.fits', '7691/spec-7691-57040-0490.fits', '7691/spec-7691-57360-0492.fits']}}"
   ]
  },
  {
   "cell_type": "code",
   "execution_count": 486,
   "metadata": {
    "collapsed": false
   },
   "outputs": [
    {
     "data": {
      "text/plain": [
       "{340637645: ['10000/spec-10000-57346-0136.fits',\n",
       "  '5697/spec-5697-55944-0969.fits',\n",
       "  '7691/spec-7691-57040-0134.fits',\n",
       "  '7691/spec-7691-57360-0132.fits'],\n",
       " 341840093: ['10000/spec-10000-57346-0092.fits',\n",
       "  '5697/spec-5697-55944-0990.fits',\n",
       "  '6270/spec-6270-56273-0202.fits',\n",
       "  '7691/spec-7691-57040-0100.fits',\n",
       "  '7691/spec-7691-57360-0094.fits'],\n",
       " 341840412: ['10000/spec-10000-57346-0100.fits',\n",
       "  '5698/spec-5698-55947-0594.fits',\n",
       "  '7691/spec-7691-57040-0093.fits',\n",
       "  '7691/spec-7691-57360-0099.fits']}"
      ]
     },
     "execution_count": 486,
     "metadata": {},
     "output_type": "execute_result"
    }
   ],
   "source": [
    "df[3403]"
   ]
  },
  {
   "cell_type": "code",
   "execution_count": 569,
   "metadata": {
    "collapsed": false
   },
   "outputs": [],
   "source": [
    "a = {3403: {341840412: ['10000/spec-10000-57346-0100.fits', '5698/spec-5698-55947-0594.fits', '7691/spec-7691-57040-0093.fits', '7691/spec-7691-57360-0099.fits'], 340637645: ['10000/spec-10000-57346-0136.fits', '5697/spec-5697-55944-0969.fits', '7691/spec-7691-57040-0134.fits', '7691/spec-7691-57360-0132.fits'], 341840093: ['10000/spec-10000-57346-0092.fits', '5697/spec-5697-55944-0990.fits', '6270/spec-6270-56273-0202.fits', '7691/spec-7691-57040-0100.fits', '7691/spec-7691-57360-0094.fits']}},{3275: {349534382: ['10000/spec-10000-57346-0999.fits', '6270/spec-6270-56273-0074.fits', '6272/spec-6272-56325-0492.fits', '7691/spec-7691-57040-0996.fits', '7691/spec-7691-57360-0996.fits']}},{3274: {350554689: ['10000/spec-10000-57346-0693.fits', '6270/spec-6270-56273-0438.fits', '7691/spec-7691-57040-0690.fits', '7691/spec-7691-57360-0702.fits'], 346239524: ['10000/spec-10000-57346-0436.fits', '5697/spec-5697-55944-0662.fits', '6268/spec-6268-56245-0140.fits', '7691/spec-7691-57040-0440.fits', '7691/spec-7691-57360-0438.fits'], 351278054: ['10000/spec-10000-57346-0604.fits', '6270/spec-6270-56273-0559.fits', '7691/spec-7691-57040-0607.fits', '7691/spec-7691-57360-0719.fits'], 350868168: ['10000/spec-10000-57346-0888.fits', '6270/spec-6270-56273-0238.fits', '7691/spec-7691-57040-0888.fits', '7691/spec-7691-57360-0932.fits'], 348420585: ['10000/spec-10000-57346-0536.fits', '6268/spec-6268-56245-0152.fits', '7691/spec-7691-57040-0536.fits', '7691/spec-7691-57360-0558.fits'], 351046414: ['10000/spec-10000-57346-0642.fits', '6270/spec-6270-56273-0600.fits', '7691/spec-7691-57040-0647.fits', '7691/spec-7691-57360-0711.fits'], 342652719: ['10000/spec-10000-57346-0172.fits', '5698/spec-5698-55947-0508.fits', '7691/spec-7691-57040-0180.fits', '7691/spec-7691-57360-0176.fits'], 347714116: ['10000/spec-10000-57346-0614.fits', '6270/spec-6270-56273-0491.fits', '7691/spec-7691-57040-0616.fits', '7691/spec-7691-57360-0636.fits'], 350283464: ['10000/spec-10000-57346-0732.fits', '6270/spec-6270-56273-0392.fits', '7691/spec-7691-57040-0730.fits', '7691/spec-7691-57360-0784.fits'], 345257490: ['10000/spec-10000-57346-0307.fits', '6270/spec-6270-56273-0378.fits', '7691/spec-7691-57040-0308.fits', '7691/spec-7691-57360-0308.fits'], 346955029: ['10000/spec-10000-57346-0280.fits', '6270/spec-6270-56273-0384.fits', '7691/spec-7691-57040-0280.fits', '7691/spec-7691-57360-0278.fits'], 341123990: ['10000/spec-10000-57346-0260.fits', '5697/spec-5697-55944-0914.fits', '7691/spec-7691-57040-0254.fits', '7691/spec-7691-57360-0260.fits'], 344738135: ['10000/spec-10000-57346-0266.fits', '6270/spec-6270-56273-0340.fits', '7691/spec-7691-57040-0262.fits', '7691/spec-7691-57360-0270.fits'], 353593796: ['10000/spec-10000-57346-0757.fits', '7691/spec-7691-57040-0756.fits', '6270/spec-6270-56273-0676.fits'], 350610703: ['10000/spec-10000-57346-0890.fits', '6270/spec-6270-56273-0240.fits', '7691/spec-7691-57040-0892.fits', '7691/spec-7691-57360-0926.fits'], 348052255: ['10000/spec-10000-57346-0818.fits', '6270/spec-6270-56273-0342.fits', '7691/spec-7691-57040-0818.fits', '7691/spec-7691-57360-0826.fits']}},{3402: {341037487: ['10000/spec-10000-57346-0456.fits', '5697/spec-5697-55944-0672.fits', '7691/spec-7691-57040-0456.fits', '7691/spec-7691-57360-0448.fits'], 343269820: ['10000/spec-10000-57346-0482.fits', '6268/spec-6268-56245-0210.fits', '7691/spec-7691-57040-0486.fits', '7691/spec-7691-57360-0486.fits'], 336426277: ['10000/spec-10000-57346-0364.fits', '5697/spec-5697-55944-0814.fits', '7691/spec-7691-57040-0364.fits', '7691/spec-7691-57360-0364.fits'], 343388415: ['10000/spec-10000-57346-0484.fits', '6268/spec-6268-56245-0177.fits', '7691/spec-7691-57040-0490.fits', '7691/spec-7691-57360-0492.fits']}}"
   ]
  },
  {
   "cell_type": "code",
   "execution_count": 9,
   "metadata": {
    "collapsed": false
   },
   "outputs": [],
   "source": [
    "b =pd.read_json('{\"3403\":{\"th_341840093\": [\"10000/spec-10000-57346-0092.fits\", \"5697/spec-5697-55944-0990.fits\", \"6270/spec-6270-56273-0202.fits\", \"7691/spec-7691-57040-0100.fits\", \"7691/spec-7691-57360-0094.fits\"], \"th_341840412\": [\"10000/spec-10000-57346-0100.fits\", \"5698/spec-5698-55947-0594.fits\", \"7691/spec-7691-57040-0093.fits\", \"7691/spec-7691-57360-0099.fits\"], \"th_340637645\": [\"10000/spec-10000-57346-0136.fits\", \"5697/spec-5697-55944-0969.fits\", \"7691/spec-7691-57040-0134.fits\", \"7691/spec-7691-57360-0132.fits\"]},\"3275\":{\"th_349534382\": [\"10000/spec-10000-57346-0999.fits\", \"6270/spec-6270-56273-0074.fits\", \"6272/spec-6272-56325-0492.fits\", \"7691/spec-7691-57040-0996.fits\", \"7691/spec-7691-57360-0996.fits\"]},\"3274\":{\"th_353593796\": [\"10000/spec-10000-57346-0757.fits\", \"7691/spec-7691-57040-0756.fits\", \"6270/spec-6270-56273-0676.fits\"], \"th_350610703\": [\"10000/spec-10000-57346-0890.fits\", \"6270/spec-6270-56273-0240.fits\", \"7691/spec-7691-57040-0892.fits\", \"7691/spec-7691-57360-0926.fits\"], \"th_346955029\": [\"10000/spec-10000-57346-0280.fits\", \"6270/spec-6270-56273-0384.fits\", \"7691/spec-7691-57040-0280.fits\", \"7691/spec-7691-57360-0278.fits\"], \"th_347714116\": [\"10000/spec-10000-57346-0614.fits\", \"6270/spec-6270-56273-0491.fits\", \"7691/spec-7691-57040-0616.fits\", \"7691/spec-7691-57360-0636.fits\"], \"th_341123990\": [\"10000/spec-10000-57346-0260.fits\", \"5697/spec-5697-55944-0914.fits\", \"7691/spec-7691-57040-0254.fits\", \"7691/spec-7691-57360-0260.fits\"], \"th_350554689\": [\"10000/spec-10000-57346-0693.fits\", \"6270/spec-6270-56273-0438.fits\", \"7691/spec-7691-57040-0690.fits\", \"7691/spec-7691-57360-0702.fits\"], \"th_348420585\": [\"10000/spec-10000-57346-0536.fits\", \"6268/spec-6268-56245-0152.fits\", \"7691/spec-7691-57040-0536.fits\", \"7691/spec-7691-57360-0558.fits\"], \"th_351046414\": [\"10000/spec-10000-57346-0642.fits\", \"6270/spec-6270-56273-0600.fits\", \"7691/spec-7691-57040-0647.fits\", \"7691/spec-7691-57360-0711.fits\"], \"th_351278054\": [\"10000/spec-10000-57346-0604.fits\", \"6270/spec-6270-56273-0559.fits\", \"7691/spec-7691-57040-0607.fits\", \"7691/spec-7691-57360-0719.fits\"], \"th_342652719\": [\"10000/spec-10000-57346-0172.fits\", \"5698/spec-5698-55947-0508.fits\", \"7691/spec-7691-57040-0180.fits\", \"7691/spec-7691-57360-0176.fits\"], \"th_350868168\": [\"10000/spec-10000-57346-0888.fits\", \"6270/spec-6270-56273-0238.fits\", \"7691/spec-7691-57040-0888.fits\", \"7691/spec-7691-57360-0932.fits\"], \"th_345257490\": [\"10000/spec-10000-57346-0307.fits\", \"6270/spec-6270-56273-0378.fits\", \"7691/spec-7691-57040-0308.fits\", \"7691/spec-7691-57360-0308.fits\"], \"th_350283464\": [\"10000/spec-10000-57346-0732.fits\", \"6270/spec-6270-56273-0392.fits\", \"7691/spec-7691-57040-0730.fits\", \"7691/spec-7691-57360-0784.fits\"], \"th_348052255\": [\"10000/spec-10000-57346-0818.fits\", \"6270/spec-6270-56273-0342.fits\", \"7691/spec-7691-57040-0818.fits\", \"7691/spec-7691-57360-0826.fits\"], \"th_344738135\": [\"10000/spec-10000-57346-0266.fits\", \"6270/spec-6270-56273-0340.fits\", \"7691/spec-7691-57040-0262.fits\", \"7691/spec-7691-57360-0270.fits\"], \"th_346239524\": [\"10000/spec-10000-57346-0436.fits\", \"5697/spec-5697-55944-0662.fits\", \"6268/spec-6268-56245-0140.fits\", \"7691/spec-7691-57040-0440.fits\", \"7691/spec-7691-57360-0438.fits\"]}}')"
   ]
  },
  {
   "cell_type": "code",
   "execution_count": 459,
   "metadata": {
    "collapsed": false
   },
   "outputs": [
    {
     "data": {
      "text/plain": [
       "['c', 'd', '']"
      ]
     },
     "execution_count": 459,
     "metadata": {},
     "output_type": "execute_result"
    }
   ],
   "source": [
    "aa =np.array(['c','d'])\n",
    "aa.resize(3)\n",
    "list(aa)"
   ]
  },
  {
   "cell_type": "code",
   "execution_count": 460,
   "metadata": {
    "collapsed": false
   },
   "outputs": [],
   "source": [
    "a = [['a','b','e'],list(aa)]\n",
    "data = np.zeros(len(a), dtype=dict(names =['a'], formats=['f4']))"
   ]
  },
  {
   "cell_type": "code",
   "execution_count": 465,
   "metadata": {
    "collapsed": false
   },
   "outputs": [],
   "source": [
    "data={}\n"
   ]
  },
  {
   "cell_type": "code",
   "execution_count": 466,
   "metadata": {
    "collapsed": false
   },
   "outputs": [
    {
     "data": {
      "text/plain": [
       "{'a': array([['a', 'b', 'e'],\n",
       "        ['c', 'd', '']], \n",
       "       dtype='|S1')}"
      ]
     },
     "execution_count": 466,
     "metadata": {},
     "output_type": "execute_result"
    }
   ],
   "source": [
    "data['a']= np.array(a)\n",
    "data"
   ]
  },
  {
   "cell_type": "code",
   "execution_count": 468,
   "metadata": {
    "collapsed": false
   },
   "outputs": [],
   "source": [
    "fits = fitsio.FITS('test_fits.fits','rw')\n",
    "fits.write(data)\n",
    "fits.close()"
   ]
  },
  {
   "cell_type": "code",
   "execution_count": 119,
   "metadata": {
    "collapsed": false
   },
   "outputs": [],
   "source": [
    "file = open('master_0.csv', 'r')\n",
    "healpix=[]\n",
    "for line in file:\n",
    "    healpix.append(pd.read_json(line))"
   ]
  },
  {
   "cell_type": "code",
   "execution_count": 70,
   "metadata": {
    "collapsed": false
   },
   "outputs": [
    {
     "data": {
      "text/html": [
       "<div>\n",
       "<table border=\"1\" class=\"dataframe\">\n",
       "  <thead>\n",
       "    <tr style=\"text-align: right;\">\n",
       "      <th></th>\n",
       "      <th>3403</th>\n",
       "    </tr>\n",
       "  </thead>\n",
       "  <tbody>\n",
       "    <tr>\n",
       "      <th>th_340637645</th>\n",
       "      <td>[10000/spec-10000-57346-0136.fits, 5697/spec-5...</td>\n",
       "    </tr>\n",
       "    <tr>\n",
       "      <th>th_341840093</th>\n",
       "      <td>[10000/spec-10000-57346-0092.fits, 5697/spec-5...</td>\n",
       "    </tr>\n",
       "    <tr>\n",
       "      <th>th_341840412</th>\n",
       "      <td>[10000/spec-10000-57346-0100.fits, 5698/spec-5...</td>\n",
       "    </tr>\n",
       "  </tbody>\n",
       "</table>\n",
       "</div>"
      ],
      "text/plain": [
       "                                                           3403\n",
       "th_340637645  [10000/spec-10000-57346-0136.fits, 5697/spec-5...\n",
       "th_341840093  [10000/spec-10000-57346-0092.fits, 5697/spec-5...\n",
       "th_341840412  [10000/spec-10000-57346-0100.fits, 5698/spec-5..."
      ]
     },
     "execution_count": 70,
     "metadata": {},
     "output_type": "execute_result"
    }
   ],
   "source": [
    "healpix[0]"
   ]
  },
  {
   "cell_type": "code",
   "execution_count": 69,
   "metadata": {
    "collapsed": false
   },
   "outputs": [
    {
     "data": {
      "text/html": [
       "<div>\n",
       "<table border=\"1\" class=\"dataframe\">\n",
       "  <thead>\n",
       "    <tr style=\"text-align: right;\">\n",
       "      <th></th>\n",
       "      <th>3275</th>\n",
       "    </tr>\n",
       "  </thead>\n",
       "  <tbody>\n",
       "    <tr>\n",
       "      <th>th_349534382</th>\n",
       "      <td>[10000/spec-10000-57346-0999.fits, 6270/spec-6...</td>\n",
       "    </tr>\n",
       "  </tbody>\n",
       "</table>\n",
       "</div>"
      ],
      "text/plain": [
       "                                                           3275\n",
       "th_349534382  [10000/spec-10000-57346-0999.fits, 6270/spec-6..."
      ]
     },
     "execution_count": 69,
     "metadata": {},
     "output_type": "execute_result"
    }
   ],
   "source": [
    "healpix[1]"
   ]
  },
  {
   "cell_type": "code",
   "execution_count": 866,
   "metadata": {
    "collapsed": false
   },
   "outputs": [],
   "source": [
    "fits = fitsio.FITS('master_file.fits') "
   ]
  },
  {
   "cell_type": "code",
   "execution_count": 871,
   "metadata": {
    "collapsed": false
   },
   "outputs": [
    {
     "data": {
      "text/plain": [
       "\n",
       "  file: master_file.fits\n",
       "  extension: 1\n",
       "  type: BINARY_TBL\n",
       "  rows: 34\n",
       "  column info:\n",
       "    thing_id            i4  \n",
       "    files              S32  array[5]\n",
       "    z                   f4  array[5]\n",
       "    z_warning           i4  array[5]\n",
       "    healpix             i4  \n",
       "    z_err               f4  array[5]"
      ]
     },
     "execution_count": 871,
     "metadata": {},
     "output_type": "execute_result"
    }
   ],
   "source": [
    "fits[1]"
   ]
  },
  {
   "cell_type": "code",
   "execution_count": 864,
   "metadata": {
    "collapsed": false
   },
   "outputs": [],
   "source": [
    "fits = fitsio.FITS('healpix/pix_3274.fits') "
   ]
  },
  {
   "cell_type": "code",
   "execution_count": 865,
   "metadata": {
    "collapsed": false
   },
   "outputs": [
    {
     "data": {
      "text/plain": [
       "\n",
       "  file: healpix/pix_3274.fits\n",
       "  extension: 1\n",
       "  type: BINARY_TBL\n",
       "  rows: 4654\n",
       "  column info:\n",
       "    and_mask_350868168\n",
       "                        f8  \n",
       "    or_mask_353593796\n",
       "                        f8  \n",
       "    ivar_345257490      f8  \n",
       "    and_mask_342652719\n",
       "                        f8  \n",
       "    coadd_350554689     f8  \n",
       "    or_mask_350554689\n",
       "                        i8  \n",
       "    ivar_348420585      f8  \n",
       "    ivar_346239524      f8  \n",
       "    coadd_350283464     f8  \n",
       "    coadd_341123990     f8  \n",
       "    or_mask_350610703\n",
       "                        f8  \n",
       "    coadd_342652719     f8  \n",
       "    and_mask_347714116\n",
       "                        i8  \n",
       "    ivar_346955029      f8  \n",
       "    or_mask_351046414\n",
       "                        f8  \n",
       "    or_mask_346239524\n",
       "                        f8  \n",
       "    ivar_347714116      f8  \n",
       "    coadd_345257490     f8  \n",
       "    or_mask_347714116\n",
       "                        i8  \n",
       "    coadd_351046414     f8  \n",
       "    and_mask_344738135\n",
       "                        f8  \n",
       "    coadd_346239524     f8  \n",
       "    and_mask_346239524\n",
       "                        f8  \n",
       "    or_mask_350283464\n",
       "                        f8  \n",
       "    ivar_350554689      f8  \n",
       "    or_mask_344738135\n",
       "                        f8  \n",
       "    and_mask_341123990\n",
       "                        f8  \n",
       "    ivar_351046414      f8  \n",
       "    and_mask_346955029\n",
       "                        f8  \n",
       "    ivar_348052255      f8  \n",
       "    or_mask_345257490\n",
       "                        f8  \n",
       "    coadd_350868168     f8  \n",
       "    and_mask_350610703\n",
       "                        f8  \n",
       "    or_mask_342652719\n",
       "                        f8  \n",
       "    coadd_350610703     f8  \n",
       "    ivar_341123990      f8  \n",
       "    and_mask_350554689\n",
       "                        i8  \n",
       "    ivar_351278054      f8  \n",
       "    or_mask_350868168\n",
       "                        f8  \n",
       "    and_mask_348420585\n",
       "                        f8  \n",
       "    coadd_344738135     f8  \n",
       "    ivar_344738135      f8  \n",
       "    coadd_348420585     f8  \n",
       "    ivar_342652719      f8  \n",
       "    and_mask_351278054\n",
       "                        f8  \n",
       "    or_mask_351278054\n",
       "                        f8  \n",
       "    ivar_350283464      f8  \n",
       "    ivar_350868168      f8  \n",
       "    or_mask_341123990\n",
       "                        f8  \n",
       "    or_mask_346955029\n",
       "                        f8  \n",
       "    and_mask_345257490\n",
       "                        f8  \n",
       "    coadd_353593796     f8  \n",
       "    or_mask_348052255\n",
       "                        f8  \n",
       "    and_mask_350283464\n",
       "                        f8  \n",
       "    coadd_348052255     f8  \n",
       "    and_mask_348052255\n",
       "                        f8  \n",
       "    loglam              f8  \n",
       "    ivar_350610703      f8  \n",
       "    coadd_347714116     f8  \n",
       "    and_mask_353593796\n",
       "                        f8  \n",
       "    ivar_353593796      f8  \n",
       "    or_mask_348420585\n",
       "                        f8  \n",
       "    and_mask_351046414\n",
       "                        f8  \n",
       "    coadd_346955029     f8  \n",
       "    coadd_351278054     f8  "
      ]
     },
     "execution_count": 865,
     "metadata": {},
     "output_type": "execute_result"
    }
   ],
   "source": [
    "fits[1]"
   ]
  },
  {
   "cell_type": "code",
   "execution_count": 483,
   "metadata": {
    "collapsed": false
   },
   "outputs": [],
   "source": [
    "a = np.array(['10000/spec-10000-57346-0100.fits', '5698/spec-5698-55947-0594.fits', '7691/spec-7691-57040-0093.fits', '7691/spec-7691-57360-0099.fits'])\n",
    "a.resize(5)"
   ]
  },
  {
   "cell_type": "code",
   "execution_count": 539,
   "metadata": {
    "collapsed": false
   },
   "outputs": [],
   "source": [
    "b=['10000/spec-10000-57346-0092.fits', '5697/spec-5697-55944-0990.fits',\n",
    " '6270/spec-6270-56273-0202.fits', '7691/spec-7691-57040-0100.fits',\n",
    " '7691/spec-7691-57360-0094.fits']"
   ]
  },
  {
   "cell_type": "code",
   "execution_count": 540,
   "metadata": {
    "collapsed": false
   },
   "outputs": [
    {
     "data": {
      "text/plain": [
       "list"
      ]
     },
     "execution_count": 540,
     "metadata": {},
     "output_type": "execute_result"
    }
   ],
   "source": [
    "type(b)"
   ]
  },
  {
   "cell_type": "code",
   "execution_count": 541,
   "metadata": {
    "collapsed": false
   },
   "outputs": [],
   "source": [
    "b =np.array(b)"
   ]
  },
  {
   "cell_type": "code",
   "execution_count": 542,
   "metadata": {
    "collapsed": false
   },
   "outputs": [],
   "source": [
    "b.resize(6)"
   ]
  },
  {
   "cell_type": "code",
   "execution_count": 741,
   "metadata": {
    "collapsed": false
   },
   "outputs": [
    {
     "name": "stdout",
     "output_type": "stream",
     "text": [
      "None\n"
     ]
    }
   ],
   "source": [
    "#x = np.zeros(1)\n",
    "print(np.array(['a','bs']).resize(3, refcheck=False))"
   ]
  },
  {
   "cell_type": "code",
   "execution_count": 739,
   "metadata": {
    "collapsed": false
   },
   "outputs": [
    {
     "name": "stdout",
     "output_type": "stream",
     "text": [
      "None\n"
     ]
    }
   ],
   "source": [
    "#x.resize(3)\n",
    "print(x)"
   ]
  },
  {
   "cell_type": "code",
   "execution_count": 781,
   "metadata": {
    "collapsed": false
   },
   "outputs": [],
   "source": [
    "t = 'dodoad-11212'"
   ]
  },
  {
   "cell_type": "code",
   "execution_count": 782,
   "metadata": {
    "collapsed": false
   },
   "outputs": [
    {
     "data": {
      "text/plain": [
       "['dodoad', '11212']"
      ]
     },
     "execution_count": 782,
     "metadata": {},
     "output_type": "execute_result"
    }
   ],
   "source": [
    "t.split('-')"
   ]
  },
  {
   "cell_type": "code",
   "execution_count": 783,
   "metadata": {
    "collapsed": false
   },
   "outputs": [
    {
     "data": {
      "text/plain": [
       "'dodoad-11212'"
      ]
     },
     "execution_count": 783,
     "metadata": {},
     "output_type": "execute_result"
    }
   ],
   "source": [
    "t.replace('.fits','')"
   ]
  },
  {
   "cell_type": "code",
   "execution_count": 798,
   "metadata": {
    "collapsed": true
   },
   "outputs": [],
   "source": [
    "x =[[1,2,3],[4,5]]"
   ]
  },
  {
   "cell_type": "code",
   "execution_count": 805,
   "metadata": {
    "collapsed": false
   },
   "outputs": [
    {
     "data": {
      "text/plain": [
       "[[1, 2, 3], [1, 2, 3], [1, 2, 3], [4, 5], [4, 5]]"
      ]
     },
     "execution_count": 805,
     "metadata": {},
     "output_type": "execute_result"
    }
   ],
   "source": [
    "[i  for i in x for j in i]"
   ]
  },
  {
   "cell_type": "code",
   "execution_count": 812,
   "metadata": {
    "collapsed": false
   },
   "outputs": [
    {
     "name": "stdout",
     "output_type": "stream",
     "text": [
      "[[1, 4, 9], [16, 25]]\n"
     ]
    }
   ],
   "source": [
    "#for i in x:\n",
    "    #print (i)\n",
    "print ([[j**2 for j in i]for i in x])"
   ]
  },
  {
   "cell_type": "code",
   "execution_count": null,
   "metadata": {
    "collapsed": true
   },
   "outputs": [],
   "source": []
  }
 ],
 "metadata": {
  "anaconda-cloud": {},
  "kernelspec": {
   "display_name": "Python 2",
   "language": "python",
   "name": "python2"
  },
  "language_info": {
   "codemirror_mode": {
    "name": "ipython",
    "version": 2
   },
   "file_extension": ".py",
   "mimetype": "text/x-python",
   "name": "python",
   "nbconvert_exporter": "python",
   "pygments_lexer": "ipython2",
   "version": "2.7.6"
  }
 },
 "nbformat": 4,
 "nbformat_minor": 1
}
